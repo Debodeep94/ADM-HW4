{
 "cells": [
  {
   "cell_type": "markdown",
   "metadata": {},
   "source": [
    "# ADM-HW4"
   ]
  },
  {
   "cell_type": "markdown",
   "metadata": {},
   "source": [
    "## 1. Hashing task!"
   ]
  },
  {
   "cell_type": "markdown",
   "metadata": {},
   "source": [
    "The first step to take is to create the class for the **BloomFilter**.  \n",
    "\n",
    "The Bloom filter has to take in input the *number of total items* that will be added to it and the *false-positive probability* desired.  \n",
    "Given this 2 variables as input, the filter has to automatically calculate the length needed for the array and the number of hash functions needed to achieve the requested FP-prob.  \n",
    "\n",
    "The BloomFilter is also resposible for *adding* new items and for *checking* if some items are already added to it. For completing this tasks we also need to define a hash function which, given an item, returns the position of the array that has to be turned from 0 to 1. Given the fact that we could need more than 1 hash function, the one actually defined depends on a seed, so if we give in input the same item, but with a different seed, the function returns a different integer.\n",
    "\n",
    "The hash function used is based on the **DJB2-H method**, introduced by Daniel J. Bernstein.  \n",
    "The concept is pretty simple:  \n",
    "1. start with a hash_code equal to 0  \n",
    "2. for each character in the string take its ASCII integer value and sum it to the hash_code multiplied by a prime number. The prime number used in this case is 31 since it has been proved to produce optimal results.  \n",
    "3. since we want a family of k hash functions, multiply the ASCII value by a seed, depending on the number of the hash function utilized at the moment.\n",
    "\n",
    "Before usinge the *DJB2-H* method we tried with the *multiplication method* but the results obtained were far less optimal."
   ]
  },
  {
   "cell_type": "code",
   "execution_count": 1,
   "metadata": {},
   "outputs": [],
   "source": [
    "import numpy as np\n",
    "import pandas as pd\n",
    "import math\n",
    "import matplotlib.pyplot as plt\n",
    "from threading import Thread\n",
    "import time"
   ]
  },
  {
   "cell_type": "code",
   "execution_count": 2,
   "metadata": {},
   "outputs": [],
   "source": [
    "class BloomFilter(object):\n",
    "     \n",
    "    def __init__(self, n_items, fp_prob, hash_count = 0):\n",
    "        self.fp_prob = fp_prob\n",
    "        self.n_items = n_items\n",
    "        self.array_len = self.get_array_len(self.n_items, self.fp_prob)\n",
    "        self.hash_count = hash_count\n",
    "        if hash_count == 0:\n",
    "            self.hash_count = self.get_hash_count(self.n_items, self.array_len)\n",
    "        self.array = np.zeros(self.array_len)\n",
    "\n",
    "    def get_array_len(self, n, p):\n",
    "        m = -(n*math.log(p))/(math.log(2)**2)\n",
    "        return int(m)\n",
    "\n",
    "    def get_hash_count(self, n, m):\n",
    "        k = (m/n)*math.log(2)\n",
    "        return int(k)\n",
    "\n",
    "    def hash(self, s, seed):\n",
    "        g = 31\n",
    "        res = 1\n",
    "\n",
    "        for c in s:\n",
    "            res = g*res + ord(c)*seed\n",
    "\n",
    "        return (res % self.array_len)\n",
    "\n",
    "    def add(self, item):\n",
    "        for i in range(1, self.hash_count + 1):\n",
    "            index = self.hash(item, i)\n",
    "            self.array[index] = 1\n",
    "\n",
    "    def exists(self, item):\n",
    "        for i in range(1, self.hash_count + 1):\n",
    "            index = self.hash(item, i)\n",
    "            if self.array[index] == 0:\n",
    "                return False\n",
    "        return True\n",
    "\n",
    "    def describe(self):\n",
    "        print(\"False-positive probability (%): \", self.fp_prob*100)\n",
    "        print(\"Number of items: \", self.n_items)\n",
    "        print(\"Array length: \", self.array_len)\n",
    "        print(\"Number of hash functions: \", self.hash_count)"
   ]
  },
  {
   "cell_type": "markdown",
   "metadata": {},
   "source": [
    "Now we are going to demostrate that the hash function generates integers with a normal distribution over the total array length. We will use just 100k passwords for this simulation."
   ]
  },
  {
   "cell_type": "code",
   "execution_count": 3,
   "metadata": {},
   "outputs": [],
   "source": [
    "passwords1_path = \"data\\passwords\\passwords1.txt\"\n",
    "passwords2_path = \"data\\passwords\\passwords2.txt\""
   ]
  },
  {
   "cell_type": "code",
   "execution_count": 4,
   "metadata": {},
   "outputs": [
    {
     "data": {
      "text/plain": [
       "['JV#0$S;D@j+c96/8C(W%',\n",
       " \"J,)e+LH'ENmdV5YGWu4B\",\n",
       " 'tR0V2@$SNuU9;<&DafxO',\n",
       " '/DXhI;GNl*nbCzKso=?@',\n",
       " 'b*ZB/egd=!XcvV>K(qY@']"
      ]
     },
     "execution_count": 4,
     "metadata": {},
     "output_type": "execute_result"
    }
   ],
   "source": [
    "with open(passwords1_path, 'r') as f:\n",
    "    passwords1 = f.read().splitlines()\n",
    "passwords1[:5]"
   ]
  },
  {
   "cell_type": "code",
   "execution_count": 5,
   "metadata": {},
   "outputs": [],
   "source": [
    "n = 100000\n",
    "BF = BloomFilter(n, 0.001)\n",
    "m = BF.array_len\n",
    "k = BF.hash_count"
   ]
  },
  {
   "cell_type": "code",
   "execution_count": 6,
   "metadata": {},
   "outputs": [
    {
     "name": "stdout",
     "output_type": "stream",
     "text": [
      "1437758\n",
      "9\n"
     ]
    }
   ],
   "source": [
    "print(m)\n",
    "print(k)"
   ]
  },
  {
   "cell_type": "code",
   "execution_count": 6,
   "metadata": {},
   "outputs": [],
   "source": [
    "ls_hash = []\n",
    "for pwd in passwords1[:n]:\n",
    "    for i in range(1, k+1):\n",
    "        ls_hash.append(BF.hash(pwd, i))"
   ]
  },
  {
   "cell_type": "markdown",
   "metadata": {},
   "source": [
    "Here are some results:"
   ]
  },
  {
   "cell_type": "code",
   "execution_count": 7,
   "metadata": {},
   "outputs": [
    {
     "data": {
      "text/plain": [
       "count    1.000000e+06\n",
       "mean     7.188063e+05\n",
       "std      4.151830e+05\n",
       "min      0.000000e+00\n",
       "25%      3.591618e+05\n",
       "50%      7.188230e+05\n",
       "75%      1.078158e+06\n",
       "max      1.437750e+06\n",
       "dtype: float64"
      ]
     },
     "execution_count": 7,
     "metadata": {},
     "output_type": "execute_result"
    }
   ],
   "source": [
    "hash_series = pd.Series(ls_hash)\n",
    "hash_series.describe()"
   ]
  },
  {
   "cell_type": "markdown",
   "metadata": {},
   "source": [
    "First of all we can see that all of the integers generated are in the range from 0 to m"
   ]
  },
  {
   "cell_type": "code",
   "execution_count": 8,
   "metadata": {},
   "outputs": [
    {
     "name": "stdout",
     "output_type": "stream",
     "text": [
      "hash_series out of range:  False\n"
     ]
    }
   ],
   "source": [
    "print(\"hash_series out of range: \", hash_series.max() > m or hash_series.min() < 0)"
   ]
  },
  {
   "cell_type": "markdown",
   "metadata": {},
   "source": [
    "Now we will plot the distribution of the integers to demonstrate that it is uniform"
   ]
  },
  {
   "cell_type": "code",
   "execution_count": 9,
   "metadata": {},
   "outputs": [
    {
     "data": {
      "text/plain": [
       "(array([20245., 20147., 20049., 20076., 19901., 20040., 19804., 19891.,\n",
       "        19936., 19900., 20086., 20161., 19890., 20016., 19859., 19794.,\n",
       "        19989., 20284., 19955., 19948., 20154., 19944., 19852., 20023.,\n",
       "        20094., 19906., 20168., 19936., 19813., 19865., 20253., 19696.,\n",
       "        19973., 20254., 20073., 19943., 20200., 19847., 19946., 19978.,\n",
       "        19997., 20177., 19947., 20109., 19867., 20143., 19957., 20010.,\n",
       "        19624., 20280.]),\n",
       " array([      0.,   28755.,   57510.,   86265.,  115020.,  143775.,\n",
       "         172530.,  201285.,  230040.,  258795.,  287550.,  316305.,\n",
       "         345060.,  373815.,  402570.,  431325.,  460080.,  488835.,\n",
       "         517590.,  546345.,  575100.,  603855.,  632610.,  661365.,\n",
       "         690120.,  718875.,  747630.,  776385.,  805140.,  833895.,\n",
       "         862650.,  891405.,  920160.,  948915.,  977670., 1006425.,\n",
       "        1035180., 1063935., 1092690., 1121445., 1150200., 1178955.,\n",
       "        1207710., 1236465., 1265220., 1293975., 1322730., 1351485.,\n",
       "        1380240., 1408995., 1437750.]),\n",
       " <a list of 50 Patch objects>)"
      ]
     },
     "execution_count": 9,
     "metadata": {},
     "output_type": "execute_result"
    },
    {
     "data": {
      "image/png": "[encoded data removed]",
      "text/plain": [
       "<Figure size 432x288 with 1 Axes>"
      ]
     },
     "metadata": {
      "needs_background": "light"
     },
     "output_type": "display_data"
    }
   ],
   "source": [
    "plt.hist(ls_hash, bins = 50)"
   ]
  },
  {
   "cell_type": "markdown",
   "metadata": {},
   "source": [
    "### Bloom Filter Check"
   ]
  },
  {
   "cell_type": "code",
   "execution_count": 7,
   "metadata": {},
   "outputs": [
    {
     "data": {
      "text/plain": [
       "[')cKy&3MG+V?J@Ps=,p0k',\n",
       " 'PHxf(Xu/eWTtIR;-,<bd',\n",
       " 'oZs,l!:b4LqHC#y\"S.?m',\n",
       " 'C+sTrO#>6Gw\"RmlWboAi',\n",
       " 'MK!<6d4g2icTLHkD9W1R']"
      ]
     },
     "execution_count": 7,
     "metadata": {},
     "output_type": "execute_result"
    }
   ],
   "source": [
    "with open(passwords2_path, 'r') as f:\n",
    "    passwords2 = f.read().splitlines()\n",
    "passwords2[:5]"
   ]
  },
  {
   "cell_type": "markdown",
   "metadata": {},
   "source": [
    "This is the number of passwords that we will add to the BloomFilter"
   ]
  },
  {
   "cell_type": "code",
   "execution_count": 8,
   "metadata": {},
   "outputs": [
    {
     "data": {
      "text/plain": [
       "100000000"
      ]
     },
     "execution_count": 8,
     "metadata": {},
     "output_type": "execute_result"
    }
   ],
   "source": [
    "n = len(passwords1)\n",
    "n"
   ]
  },
  {
   "cell_type": "markdown",
   "metadata": {},
   "source": [
    "And this the number of password to check"
   ]
  },
  {
   "cell_type": "code",
   "execution_count": 9,
   "metadata": {},
   "outputs": [
    {
     "data": {
      "text/plain": [
       "39000000"
      ]
     },
     "execution_count": 9,
     "metadata": {},
     "output_type": "execute_result"
    }
   ],
   "source": [
    "len(passwords2)"
   ]
  },
  {
   "cell_type": "markdown",
   "metadata": {},
   "source": [
    "In this case we will create a Bloom Filter with FP-prob equal to 0.1%."
   ]
  },
  {
   "cell_type": "code",
   "execution_count": 11,
   "metadata": {},
   "outputs": [
    {
     "name": "stdout",
     "output_type": "stream",
     "text": [
      "False-positive probability (%):  0.001\n",
      "Number of items:  100000000\n",
      "Array length:  2396264594\n",
      "Number of hash functions:  11\n"
     ]
    }
   ],
   "source": [
    "BF = BloomFilter(n, 0.00001, 11)\n",
    "BF.describe()"
   ]
  },
  {
   "cell_type": "markdown",
   "metadata": {},
   "source": [
    "Now we can add the passwords to the filter. We will also calculate the time needed for the process to complete."
   ]
  },
  {
   "cell_type": "code",
   "execution_count": 19,
   "metadata": {},
   "outputs": [],
   "source": [
    "import time"
   ]
  },
  {
   "cell_type": "code",
   "execution_count": 20,
   "metadata": {},
   "outputs": [],
   "source": [
    "def exec_bloom_filter(BF, passwords1, passwords2):\n",
    "    start = time.time()\n",
    "    \n",
    "    i = 0\n",
    "    for pwd in passwords1:\n",
    "        BF.add(pwd)\n",
    "        if (i%100000) == 0:\n",
    "            print(i)\n",
    "        i += 1\n",
    "\n",
    "    duplicates = []\n",
    "    i = 0\n",
    "    for pwd in passwords2:\n",
    "        if BF.exists(pwd):\n",
    "            duplicates.append(pwd)\n",
    "        if (i%100000) == 0:\n",
    "            print(i)\n",
    "        i += 1\n",
    "        \n",
    "    end = time.time()\n",
    "    return (duplicates, int(end-start))"
   ]
  },
  {
   "cell_type": "markdown",
   "metadata": {},
   "source": [
    "The previous **exec_bloom_filter** is also going to save the array in a txt file since it could be useful in the future if we want to check new passwords without having to re-add the passwords from *passwords1* to the filter."
   ]
  },
  {
   "cell_type": "markdown",
   "metadata": {},
   "source": [
    "### Running the test on the whole dataset"
   ]
  },
  {
   "cell_type": "code",
   "execution_count": null,
   "metadata": {
    "scrolled": true
   },
   "outputs": [
    {
     "name": "stdout",
     "output_type": "stream",
     "text": [
      "0\n",
      "100000\n",
      "200000\n",
      "300000\n",
      "400000\n",
      "500000\n",
      "600000\n",
      "700000\n",
      "800000\n",
      "900000\n",
      "1000000\n",
      "1100000\n",
      "1200000\n",
      "1300000\n",
      "1400000\n",
      "1500000\n",
      "1600000\n",
      "1700000\n",
      "1800000\n",
      "1900000\n",
      "2000000\n",
      "2100000\n",
      "2200000\n",
      "2300000\n",
      "2400000\n",
      "2500000\n",
      "2600000\n",
      "2700000\n",
      "2800000\n",
      "2900000\n",
      "3000000\n",
      "3100000\n",
      "3200000\n",
      "3300000\n",
      "3400000\n",
      "3500000\n",
      "3600000\n",
      "3700000\n",
      "3800000\n",
      "3900000\n",
      "4000000\n",
      "4100000\n",
      "4200000\n",
      "4300000\n",
      "4400000\n",
      "4500000\n",
      "4600000\n",
      "4700000\n",
      "4800000\n",
      "4900000\n",
      "5000000\n",
      "5100000\n",
      "5200000\n",
      "5300000\n",
      "5400000\n",
      "5500000\n",
      "5600000\n",
      "5700000\n",
      "5800000\n",
      "5900000\n",
      "6000000\n",
      "6100000\n",
      "6200000\n",
      "6300000\n",
      "6400000\n",
      "6500000\n",
      "6600000\n",
      "6700000\n",
      "6800000\n",
      "6900000\n",
      "7000000\n",
      "7100000\n",
      "7200000\n",
      "7300000\n",
      "7400000\n",
      "7500000\n",
      "7600000\n",
      "7700000\n",
      "7800000\n",
      "7900000\n",
      "8000000\n",
      "8100000\n",
      "8200000\n",
      "8300000\n",
      "8400000\n",
      "8500000\n",
      "8600000\n",
      "8700000\n",
      "8800000\n",
      "8900000\n",
      "9000000\n",
      "9100000\n",
      "9200000\n",
      "9300000\n",
      "9400000\n",
      "9500000\n",
      "9600000\n",
      "9700000\n",
      "9800000\n",
      "9900000\n",
      "10000000\n",
      "10100000\n",
      "10200000\n",
      "10300000\n",
      "10400000\n",
      "10500000\n",
      "10600000\n",
      "10700000\n",
      "10800000\n",
      "10900000\n",
      "11000000\n",
      "11100000\n",
      "11200000\n",
      "11300000\n",
      "11400000\n",
      "11500000\n",
      "11600000\n",
      "11700000\n",
      "11800000\n",
      "11900000\n",
      "12000000\n",
      "12100000\n",
      "12200000\n",
      "12300000\n",
      "12400000\n",
      "12500000\n",
      "12600000\n",
      "12700000\n",
      "12800000\n",
      "12900000\n",
      "13000000\n",
      "13100000\n",
      "13200000\n",
      "13300000\n",
      "13400000\n",
      "13500000\n",
      "13600000\n",
      "13700000\n",
      "13800000\n",
      "13900000\n",
      "14000000\n",
      "14100000\n",
      "14200000\n",
      "14300000\n",
      "14400000\n",
      "14500000\n",
      "14600000\n",
      "14700000\n",
      "14800000\n",
      "14900000\n",
      "15000000\n",
      "15100000\n",
      "15200000\n",
      "15300000\n",
      "15400000\n",
      "15500000\n",
      "15600000\n",
      "15700000\n",
      "15800000\n",
      "15900000\n",
      "16000000\n",
      "16100000\n",
      "16200000\n",
      "16300000\n",
      "16400000\n",
      "16500000\n",
      "16600000\n",
      "16700000\n",
      "16800000\n",
      "16900000\n",
      "17000000\n",
      "17100000\n",
      "17200000\n",
      "17300000\n",
      "17400000\n",
      "17500000\n",
      "17600000\n",
      "17700000\n",
      "17800000\n",
      "17900000\n",
      "18000000\n",
      "18100000\n",
      "18200000\n",
      "18300000\n",
      "18400000\n",
      "18500000\n",
      "18600000\n",
      "18700000\n",
      "18800000\n",
      "18900000\n",
      "19000000\n",
      "19100000\n",
      "19200000\n",
      "19300000\n",
      "19400000\n",
      "19500000\n",
      "19600000\n",
      "19700000\n",
      "19800000\n",
      "19900000\n",
      "20000000\n",
      "20100000\n",
      "20200000\n",
      "20300000\n",
      "20400000\n",
      "20500000\n",
      "20600000\n",
      "20700000\n",
      "20800000\n",
      "20900000\n",
      "21000000\n",
      "21100000\n",
      "21200000\n",
      "21300000\n",
      "21400000\n",
      "21500000\n",
      "21600000\n",
      "21700000\n",
      "21800000\n",
      "21900000\n",
      "22000000\n",
      "22100000\n",
      "22200000\n",
      "22300000\n",
      "22400000\n",
      "22500000\n",
      "22600000\n",
      "22700000\n",
      "22800000\n",
      "22900000\n",
      "23000000\n",
      "23100000\n",
      "23200000\n",
      "23300000\n",
      "23400000\n",
      "23500000\n",
      "23600000\n",
      "23700000\n",
      "23800000\n",
      "23900000\n",
      "24000000\n",
      "24100000\n",
      "24200000\n",
      "24300000\n",
      "24400000\n",
      "24500000\n",
      "24600000\n",
      "24700000\n",
      "24800000\n",
      "24900000\n",
      "25000000\n",
      "25100000\n",
      "25200000\n",
      "25300000\n",
      "25400000\n",
      "25500000\n",
      "25600000\n",
      "25700000\n",
      "25800000\n",
      "25900000\n",
      "26000000\n",
      "26100000\n",
      "26200000\n",
      "26300000\n",
      "26400000\n",
      "26500000\n",
      "26600000\n",
      "26700000\n",
      "26800000\n",
      "26900000\n",
      "27000000\n",
      "27100000\n",
      "27200000\n",
      "27300000\n",
      "27400000\n",
      "27500000\n",
      "27600000\n",
      "27700000\n",
      "27800000\n",
      "27900000\n",
      "28000000\n",
      "28100000\n",
      "28200000\n",
      "28300000\n",
      "28400000\n",
      "28500000\n",
      "28600000\n",
      "28700000\n",
      "28800000\n",
      "28900000\n",
      "29000000\n",
      "29100000\n",
      "29200000\n",
      "29300000\n",
      "29400000\n",
      "29500000\n",
      "29600000\n",
      "29700000\n",
      "29800000\n",
      "29900000\n",
      "30000000\n",
      "30100000\n",
      "30200000\n",
      "30300000\n",
      "30400000\n",
      "30500000\n",
      "30600000\n",
      "30700000\n",
      "30800000\n",
      "30900000\n",
      "31000000\n",
      "31100000\n",
      "31200000\n",
      "31300000\n",
      "31400000\n",
      "31500000\n",
      "31600000\n",
      "31700000\n",
      "31800000\n",
      "31900000\n",
      "32000000\n",
      "32100000\n",
      "32200000\n",
      "32300000\n",
      "32400000\n",
      "32500000\n",
      "32600000\n",
      "32700000\n",
      "32800000\n",
      "32900000\n",
      "33000000\n",
      "33100000\n",
      "33200000\n",
      "33300000\n",
      "33400000\n",
      "33500000\n",
      "33600000\n",
      "33700000\n",
      "33800000\n",
      "33900000\n",
      "34000000\n",
      "34100000\n",
      "34200000\n",
      "34300000\n",
      "34400000\n",
      "34500000\n",
      "34600000\n",
      "34700000\n",
      "34800000\n",
      "34900000\n",
      "35000000\n",
      "35100000\n",
      "35200000\n",
      "35300000\n",
      "35400000\n",
      "35500000\n",
      "35600000\n",
      "35700000\n",
      "35800000\n",
      "35900000\n",
      "36000000\n",
      "36100000\n",
      "36200000\n",
      "36300000\n",
      "36400000\n",
      "36500000\n",
      "36600000\n",
      "36700000\n",
      "36800000\n",
      "36900000\n",
      "37000000\n",
      "37100000\n",
      "37200000\n",
      "37300000\n",
      "37400000\n",
      "37500000\n",
      "37600000\n",
      "37700000\n",
      "37800000\n",
      "37900000\n",
      "38000000\n",
      "38100000\n",
      "38200000\n",
      "38300000\n",
      "38400000\n",
      "38500000\n",
      "38600000\n",
      "38700000\n",
      "38800000\n",
      "38900000\n",
      "39000000\n",
      "39100000\n",
      "39200000\n",
      "39300000\n",
      "39400000\n",
      "39500000\n",
      "39600000\n",
      "39700000\n",
      "39800000\n",
      "39900000\n",
      "40000000\n",
      "40100000\n",
      "40200000\n",
      "40300000\n",
      "40400000\n",
      "40500000\n",
      "40600000\n",
      "40700000\n",
      "40800000\n",
      "40900000\n",
      "41000000\n",
      "41100000\n",
      "41200000\n",
      "41300000\n",
      "41400000\n",
      "41500000\n",
      "41600000\n",
      "41700000\n",
      "41800000\n",
      "41900000\n",
      "42000000\n",
      "42100000\n",
      "42200000\n",
      "42300000\n",
      "42400000\n",
      "42500000\n",
      "42600000\n",
      "42700000\n",
      "42800000\n",
      "42900000\n",
      "43000000\n",
      "43100000\n",
      "43200000\n",
      "43300000\n",
      "43400000\n",
      "43500000\n",
      "43600000\n",
      "43700000\n",
      "43800000\n",
      "43900000\n",
      "44000000\n",
      "44100000\n",
      "44200000\n",
      "44300000\n",
      "44400000\n",
      "44500000\n",
      "44600000\n",
      "44700000\n",
      "44800000\n",
      "44900000\n",
      "45000000\n",
      "45100000\n",
      "45200000\n",
      "45300000\n",
      "45400000\n",
      "45500000\n",
      "45600000\n",
      "45700000\n",
      "45800000\n",
      "45900000\n",
      "46000000\n",
      "46100000\n",
      "46200000\n",
      "46300000\n",
      "46400000\n",
      "46500000\n",
      "46600000\n",
      "46700000\n",
      "46800000\n",
      "46900000\n",
      "47000000\n",
      "47100000\n",
      "47200000\n",
      "47300000\n",
      "47400000\n",
      "47500000\n",
      "47600000\n",
      "47700000\n",
      "47800000\n",
      "47900000\n",
      "48000000\n",
      "48100000\n",
      "48200000\n",
      "48300000\n",
      "48400000\n",
      "48500000\n",
      "48600000\n",
      "48700000\n",
      "48800000\n",
      "48900000\n",
      "49000000\n",
      "49100000\n",
      "49200000\n",
      "49300000\n",
      "49400000\n",
      "49500000\n",
      "49600000\n",
      "49700000\n",
      "49800000\n",
      "49900000\n",
      "50000000\n",
      "50100000\n",
      "50200000\n",
      "50300000\n",
      "50400000\n",
      "50500000\n",
      "50600000\n",
      "50700000\n",
      "50800000\n",
      "50900000\n",
      "51000000\n",
      "51100000\n",
      "51200000\n",
      "51300000\n",
      "51400000\n",
      "51500000\n",
      "51600000\n",
      "51700000\n",
      "51800000\n",
      "51900000\n",
      "52000000\n",
      "52100000\n",
      "52200000\n",
      "52300000\n",
      "52400000\n",
      "52500000\n",
      "52600000\n",
      "52700000\n",
      "52800000\n",
      "52900000\n",
      "53000000\n",
      "53100000\n",
      "53200000\n",
      "53300000\n",
      "53400000\n",
      "53500000\n",
      "53600000\n",
      "53700000\n"
     ]
    }
   ],
   "source": [
    "(duplicates, seconds) = exec_bloom_filter(BF, passwords1, passwords2)"
   ]
  },
  {
   "cell_type": "code",
   "execution_count": null,
   "metadata": {},
   "outputs": [],
   "source": [
    "print('\\nNumber of hash function used: ', BF.hash_count) \n",
    "print('Number of duplicates detected: ', len(duplicates)) \n",
    "print('Probability of false positives: (%)', BF.fp_prob*100) \n",
    "print('Execution time: ', seconds, ' seconds')"
   ]
  },
  {
   "cell_type": "markdown",
   "metadata": {},
   "source": [
    "This is the results obtained:  \n",
    "- **Number of hash functions used:** 9\n",
    "- **Number of duplicates detected:** 16217499\n",
    "- **Probability of false positives (%):** 0.1\n",
    "- **Execution time:** 4806 seconds -> about 1 hour and 20 minutes"
   ]
  },
  {
   "cell_type": "code",
   "execution_count": null,
   "metadata": {},
   "outputs": [],
   "source": [
    "with open('duplicates.txt', 'w') as f:\n",
    "    for pwd in duplicates:\n",
    "        f.write(\"%s\\n\" % pwd)"
   ]
  },
  {
   "cell_type": "markdown",
   "metadata": {},
   "source": [
    "### Multithread implementation for faster execution"
   ]
  },
  {
   "cell_type": "markdown",
   "metadata": {},
   "source": [
    "In the next sections I'm going to implement the execution on the Bloom filter in multithread, both for adding passwords to the filter and for checking the presence of duplicates."
   ]
  },
  {
   "cell_type": "code",
   "execution_count": 4,
   "metadata": {},
   "outputs": [],
   "source": [
    "def add(BF, passwords):\n",
    "    i = 0\n",
    "    for pwd in passwords:\n",
    "        BF.add(pwd)\n",
    "        if (i%100000) == 0:\n",
    "            print(i)\n",
    "        i += 1"
   ]
  },
  {
   "cell_type": "code",
   "execution_count": 5,
   "metadata": {},
   "outputs": [],
   "source": [
    "def check(BF, passwords, duplicates):\n",
    "    i = 0\n",
    "    for pwd in passwords:\n",
    "        if BF.exists(pwd):\n",
    "            duplicates += 1\n",
    "        if (i%100000) == 0:\n",
    "            print(i)\n",
    "        i += 1"
   ]
  },
  {
   "cell_type": "code",
   "execution_count": 6,
   "metadata": {},
   "outputs": [],
   "source": [
    "def multithread_add(BF, passwords, n_threads):\n",
    "    N = len(passwords)\n",
    "    l_chunks = N // n_threads\n",
    "    chunks = [passwords[i:i + l_chunks] for i in range(0, N, l_chunks)]\n",
    "\n",
    "    if len(chunks) > n_threads:\n",
    "        chunks[-2] += chunks[-1]\n",
    "        del chunks[-1]\n",
    "\n",
    "    threads = []\n",
    "\n",
    "    for i in range(n_threads):\n",
    "        threads.append(\n",
    "            Thread(name='Thread-' + str(i),\n",
    "            target=add, args=[BF, chunks[i]])\n",
    "        )\n",
    "\n",
    "    # start each thread\n",
    "    for t in threads:\n",
    "        t.start()\n",
    "\n",
    "    # wait for each thread to finish its execution\n",
    "    for t in threads:\n",
    "        t.join()"
   ]
  },
  {
   "cell_type": "code",
   "execution_count": 7,
   "metadata": {},
   "outputs": [],
   "source": [
    "def multithread_check(BF, passwords, n_threads):\n",
    "    N = len(passwords)\n",
    "    l_chunks = N // n_threads\n",
    "    chunks = [passwords[i:i + l_chunks] for i in range(0, N, l_chunks)]\n",
    "\n",
    "    if len(chunks) > n_threads:\n",
    "        chunks[-2] += chunks[-1]\n",
    "        del chunks[-1]\n",
    "\n",
    "    threads = []\n",
    "    partial_duplicates = [0 for i in range(n_threads)]\n",
    "\n",
    "    for i in range(n_threads):\n",
    "        threads.append(\n",
    "            Thread(name='Thread-' + str(i),\n",
    "            target=check, args=[BF, chunks[i], partial_duplicates[i]])\n",
    "        )\n",
    "\n",
    "    # start each thread\n",
    "    for t in threads:\n",
    "        t.start()\n",
    "\n",
    "    # wait for each thread to finish its execution\n",
    "    for t in threads:\n",
    "        t.join()\n",
    "\n",
    "    duplicates = 0\n",
    "    for d in partial_duplicates:\n",
    "        duplicates += d\n",
    "\n",
    "    return duplicates"
   ]
  },
  {
   "cell_type": "code",
   "execution_count": 8,
   "metadata": {},
   "outputs": [],
   "source": [
    "def multithread_exec_filter(BF, passwords1, passwords2_path, n_threads):\n",
    "    start = time.time()\n",
    "\n",
    "    print(\"Adding passwords from Passwords1 to the filter\")\n",
    "    multithread_add(BF, passwords1, n_threads)\n",
    "    passwords1 = None\n",
    "    print(\"Password1 added\")\n",
    "    \n",
    "    print(\"Reading passwords from passwords2.txt\")\n",
    "    with open(passwords2_path, 'r') as f:\n",
    "        passwords2 = f.read().splitlines()\n",
    "    print(\"Checking existing passwords from Password2\")\n",
    "    duplicates = multithread_check(BF, passwords2, n_threads)\n",
    "\n",
    "    end = time.time()\n",
    "    print(\"FINISHED\")\n",
    "    \n",
    "    return (duplicates, int(end-start))"
   ]
  },
  {
   "cell_type": "code",
   "execution_count": 9,
   "metadata": {},
   "outputs": [],
   "source": [
    "with open(passwords1_path, 'r') as f:\n",
    "    passwords1 = f.read().splitlines()"
   ]
  },
  {
   "cell_type": "code",
   "execution_count": 10,
   "metadata": {},
   "outputs": [
    {
     "name": "stdout",
     "output_type": "stream",
     "text": [
      "Initializing Bloom filter\n",
      "\n",
      "False-positive probability (%):  0.001\n",
      "Number of items:  100000000\n",
      "Array length:  2396264594\n",
      "Number of hash functions:  11\n",
      "\n",
      "\n"
     ]
    }
   ],
   "source": [
    "print(\"Initializing Bloom filter\\n\")\n",
    "n = len(passwords1)\n",
    "BF = BloomFilter(n, 0.00001, 11)\n",
    "BF.describe()\n",
    "print('\\n')"
   ]
  },
  {
   "cell_type": "code",
   "execution_count": null,
   "metadata": {
    "collapsed": true
   },
   "outputs": [
    {
     "name": "stdout",
     "output_type": "stream",
     "text": [
      "Adding passwords from Passwords1 to the filter\n",
      "0\n",
      "0\n",
      "0\n",
      "0\n",
      "0\n",
      "0\n",
      "0\n",
      "0\n",
      "0\n",
      "100000\n",
      "100000\n",
      "100000\n",
      "100000\n",
      "100000\n",
      "100000\n",
      "100000100000\n",
      "\n",
      "100000\n",
      "200000\n",
      "300000\n",
      "200000\n",
      "200000\n",
      "200000\n",
      "200000\n",
      "200000\n",
      "200000\n",
      "200000\n",
      "200000\n",
      "400000\n",
      "300000\n",
      "500000\n",
      "300000\n",
      "300000\n",
      "300000\n",
      "300000\n",
      "300000\n",
      "300000\n",
      "300000\n",
      "600000\n",
      "400000\n",
      "400000\n",
      "700000\n",
      "400000\n",
      "400000\n",
      "400000\n",
      "400000\n",
      "400000\n",
      "400000\n",
      "800000\n",
      "500000\n",
      "500000\n",
      "500000\n",
      "900000\n",
      "500000\n",
      "500000\n",
      "500000\n",
      "500000\n",
      "500000\n",
      "1000000\n",
      "600000\n",
      "600000\n",
      "600000\n",
      "1100000\n",
      "600000\n",
      "600000\n",
      "600000\n",
      "600000\n",
      "600000\n",
      "1200000\n",
      "700000\n",
      "700000\n",
      "700000\n",
      "1300000\n",
      "700000\n",
      "700000\n",
      "700000\n",
      "700000\n",
      "700000\n",
      "1400000\n",
      "800000\n",
      "800000\n",
      "800000\n",
      "1500000\n",
      "800000\n",
      "800000\n",
      "800000\n",
      "800000\n",
      "800000\n",
      "1600000\n",
      "900000\n",
      "900000\n",
      "900000\n",
      "1700000\n",
      "900000\n",
      "900000\n",
      "900000\n",
      "900000\n",
      "1800000\n",
      "1000000900000\n",
      "\n",
      "1000000\n",
      "1000000\n",
      "1900000\n",
      "1000000\n",
      "1000000\n",
      "1000000\n",
      "1000000\n",
      "1100000\n",
      "2000000\n",
      "1000000\n",
      "1100000\n",
      "1100000\n",
      "2100000\n",
      "1100000\n",
      "1100000\n",
      "1100000\n",
      "1200000\n",
      "1100000\n",
      "2200000\n",
      "1200000\n",
      "1100000\n",
      "1200000\n",
      "2300000\n",
      "1200000\n",
      "1200000\n",
      "1200000\n",
      "1300000\n",
      "2400000\n",
      "1300000\n",
      "1200000\n",
      "1300000\n",
      "1200000\n",
      "2500000\n",
      "1300000\n",
      "1300000\n",
      "1400000\n",
      "1300000\n",
      "1400000\n",
      "2600000\n",
      "1400000\n",
      "1300000\n",
      "1300000\n",
      "2700000\n",
      "1400000\n",
      "1500000\n",
      "1400000\n",
      "1400000\n",
      "1500000\n",
      "2800000\n",
      "1500000\n",
      "1400000\n",
      "1400000\n",
      "2900000\n",
      "1500000\n",
      "1600000\n",
      "1500000\n",
      "1600000\n",
      "1500000\n",
      "3000000\n",
      "1600000\n",
      "1500000\n",
      "1500000\n",
      "3100000\n",
      "1700000\n",
      "1600000\n",
      "1600000\n",
      "1700000\n",
      "1700000\n",
      "1600000\n",
      "3200000\n",
      "1600000\n",
      "3300000\n",
      "1600000\n",
      "1800000\n",
      "1700000\n",
      "1800000\n",
      "1800000\n",
      "1700000\n",
      "1700000\n",
      "3400000\n",
      "1700000\n",
      "3500000\n",
      "1700000\n",
      "1900000\n",
      "1800000\n",
      "1900000\n",
      "1900000\n",
      "1800000\n",
      "1800000\n",
      "3600000\n",
      "1800000\n",
      "3700000\n",
      "2000000\n",
      "2000000\n",
      "1800000\n",
      "2000000\n",
      "1900000\n",
      "1900000\n",
      "1900000\n",
      "3800000\n",
      "1900000\n",
      "3900000\n",
      "2100000\n",
      "2100000\n",
      "2100000\n",
      "2000000\n",
      "1900000\n",
      "2000000\n",
      "4000000\n",
      "2000000\n",
      "2000000\n",
      "2200000\n",
      "4100000\n",
      "2200000\n",
      "2200000\n",
      "2100000\n",
      "2100000\n",
      "2000000\n",
      "4200000\n",
      "2100000\n",
      "2300000\n",
      "2100000\n",
      "4300000\n",
      "2300000\n",
      "2300000\n",
      "2200000\n",
      "2200000\n",
      "2100000\n",
      "4400000\n",
      "2200000\n",
      "2400000\n",
      "2400000\n",
      "2200000\n",
      "4500000\n",
      "2400000\n",
      "2300000\n",
      "2300000\n",
      "2200000\n",
      "4600000\n",
      "2300000\n",
      "2500000\n",
      "2500000\n",
      "2500000\n",
      "2300000\n",
      "4700000\n",
      "2400000\n",
      "2400000\n",
      "2400000\n",
      "2300000\n",
      "4800000\n",
      "2600000\n",
      "2600000\n",
      "2600000\n",
      "2400000\n",
      "4900000\n",
      "2500000\n",
      "2500000\n",
      "2500000\n",
      "5000000\n",
      "2400000\n",
      "2700000\n",
      "2700000\n",
      "2700000\n",
      "2500000\n",
      "5100000\n",
      "2600000\n",
      "2600000\n",
      "2600000\n",
      "5200000\n",
      "2800000\n",
      "2500000\n",
      "2800000\n",
      "2800000\n",
      "2600000\n",
      "2700000\n",
      "5300000\n",
      "2700000\n",
      "2700000\n",
      "2900000\n",
      "2900000\n",
      "2900000\n",
      "2600000\n",
      "5400000\n",
      "2700000\n",
      "2800000\n",
      "2800000\n",
      "3000000\n",
      "2800000\n",
      "5500000\n",
      "3000000\n",
      "3000000\n",
      "2700000\n",
      "2800000\n",
      "5600000\n",
      "2900000\n",
      "3100000\n",
      "2900000\n",
      "2900000\n",
      "3100000\n",
      "3100000\n",
      "5700000\n",
      "2800000\n",
      "2900000\n",
      "3000000\n",
      "5800000\n",
      "3200000\n",
      "3000000\n",
      "3200000\n",
      "3200000\n",
      "3000000\n",
      "2900000\n",
      "5900000\n",
      "3000000\n",
      "3100000\n",
      "3300000\n",
      "6000000\n",
      "3300000\n",
      "3100000\n",
      "3300000\n",
      "3100000\n",
      "3000000\n",
      "6100000\n",
      "3100000\n",
      "3200000\n",
      "3400000\n",
      "3400000\n",
      "3200000\n",
      "3400000\n",
      "6200000\n",
      "3200000\n",
      "3100000\n",
      "3200000\n",
      "6300000\n",
      "3300000\n",
      "3500000\n",
      "3500000\n",
      "3300000\n",
      "3500000\n",
      "3300000\n",
      "6400000\n",
      "3200000\n",
      "3300000\n",
      "3400000\n",
      "3600000\n",
      "3600000\n",
      "3400000\n",
      "3600000\n",
      "6500000\n",
      "3400000\n",
      "3300000\n",
      "3400000\n",
      "3700000\n",
      "66000003500000\n",
      "\n",
      "3700000\n",
      "3500000\n",
      "3700000\n",
      "3500000\n",
      "6700000\n",
      "3400000\n",
      "3800000\n",
      "3500000\n",
      "3800000\n",
      "3600000\n",
      "3800000\n",
      "3600000\n",
      "6800000\n",
      "3600000\n",
      "3500000\n",
      "6900000\n",
      "3900000\n",
      "3900000\n",
      "3600000\n",
      "3700000\n",
      "3900000\n",
      "3700000\n",
      "3700000\n",
      "7000000\n",
      "4000000\n",
      "3600000\n",
      "4000000\n",
      "3800000\n",
      "3700000\n",
      "4000000\n",
      "7100000\n",
      "3800000\n",
      "3800000\n",
      "4100000\n",
      "4100000\n",
      "3700000\n",
      "7200000\n",
      "3800000\n",
      "3900000\n",
      "4100000\n",
      "3900000\n",
      "3900000\n",
      "7300000\n",
      "4200000\n",
      "4200000\n",
      "4000000\n",
      "3900000\n",
      "3800000\n",
      "4200000\n",
      "4000000\n",
      "7400000\n",
      "4000000\n",
      "4300000\n",
      "4300000\n",
      "7500000\n",
      "4100000\n",
      "4300000\n",
      "4000000\n",
      "3900000\n",
      "4100000\n",
      "4100000\n",
      "7600000\n",
      "4400000\n",
      "4400000\n",
      "4200000\n",
      "4400000\n",
      "4100000\n",
      "4000000\n",
      "4200000\n",
      "7700000\n",
      "4200000\n",
      "4500000\n",
      "4500000\n",
      "4300000\n",
      "4500000\n",
      "7800000\n",
      "4200000\n",
      "4100000\n",
      "4300000\n",
      "4300000\n",
      "4600000\n",
      "7900000\n",
      "4600000\n",
      "4400000\n",
      "4600000\n",
      "4300000\n",
      "4400000\n",
      "4200000\n",
      "8000000\n",
      "4400000\n",
      "4700000\n",
      "4700000\n",
      "4700000\n",
      "4500000\n",
      "4400000\n",
      "8100000\n",
      "4500000\n",
      "4300000\n",
      "4500000\n",
      "4800000\n",
      "4800000\n"
     ]
    }
   ],
   "source": [
    "(duplicates, seconds) = multithread_exec_filter(BF, passwords1, passwords2_path, 9)"
   ]
  },
  {
   "cell_type": "code",
   "execution_count": null,
   "metadata": {},
   "outputs": [],
   "source": [
    "print('\\nNumber of hash function used: ', BF.hash_count) \n",
    "print('Number of duplicates detected: ', duplicates) \n",
    "print('Probability of false positives: (%)', BF.fp_prob*100) \n",
    "print('Execution time: ', seconds, ' seconds')"
   ]
  },
  {
   "cell_type": "markdown",
   "metadata": {},
   "source": [
    "#### Some other stats"
   ]
  },
  {
   "cell_type": "code",
   "execution_count": 155,
   "metadata": {},
   "outputs": [],
   "source": [
    "def count_equals(passwords1, passwords2):\n",
    "    count = 0\n",
    "    for p in passwords2:\n",
    "        if p in passwords1:\n",
    "            count += 1\n",
    "    return count"
   ]
  },
  {
   "cell_type": "code",
   "execution_count": 67,
   "metadata": {},
   "outputs": [
    {
     "name": "stdout",
     "output_type": "stream",
     "text": [
      "False-positive probability (%):  0.1\n",
      "Number of items:  200000\n",
      "Array length:  2875517\n",
      "Number of hash functions needed:  10\n"
     ]
    }
   ],
   "source": [
    "test_pwd1 = passwords1[100000:300000]\n",
    "test_pwd2 = passwords2[:30000]\n",
    "BF = BloomFilter(len(test_pwd1), 0.001)\n",
    "BF.describe()"
   ]
  },
  {
   "cell_type": "code",
   "execution_count": 68,
   "metadata": {},
   "outputs": [
    {
     "name": "stdout",
     "output_type": "stream",
     "text": [
      "Number of hash function used:  10\n",
      "Number of duplicates detected:  1146\n",
      "Probability of false positives: (%) 0.1\n",
      "Execution time:  7  seconds\n"
     ]
    }
   ],
   "source": [
    "duplicates = exec_bloom_filter(BF, test_pwd1, test_pwd2)"
   ]
  },
  {
   "cell_type": "code",
   "execution_count": 259,
   "metadata": {},
   "outputs": [],
   "source": [
    "# total equals = \n",
    "CE = count_equals(test_pwd1, test_pwd2)"
   ]
  },
  {
   "cell_type": "code",
   "execution_count": 264,
   "metadata": {},
   "outputs": [
    {
     "data": {
      "text/plain": [
       "2.6281550871714807"
      ]
     },
     "execution_count": 264,
     "metadata": {},
     "output_type": "execute_result"
    }
   ],
   "source": [
    "TN = len(test_pwd2) - CE\n",
    "FP = duplicates - CE\n",
    "FPR = FP / (FP + TN)\n",
    "FPR*100"
   ]
  },
  {
   "cell_type": "markdown",
   "metadata": {},
   "source": [
    "## 2. Alphabetical Sort"
   ]
  },
  {
   "cell_type": "markdown",
   "metadata": {},
   "source": [
    "In this section are contained the discussions regarding time complexity about the functions created for the resolution of the exercise."
   ]
  },
  {
   "cell_type": "code",
   "execution_count": 33,
   "metadata": {},
   "outputs": [],
   "source": [
    "import matplotlib.pyplot as plt\n",
    "import pandas as pd"
   ]
  },
  {
   "cell_type": "markdown",
   "metadata": {},
   "source": [
    "### Counting sort"
   ]
  },
  {
   "cell_type": "markdown",
   "metadata": {},
   "source": [
    "**Counting sort** assumes that every int in the input, list with length *n*, is in the range *0 <= k <= n*. With this constraing we can assume that O(k) lies under O(n)."
   ]
  },
  {
   "cell_type": "code",
   "execution_count": 22,
   "metadata": {},
   "outputs": [],
   "source": [
    "def counting_sort(A):\n",
    "    \"\"\"\n",
    "    This function takes in input a list of integers and return a new ordered list, based on the first one.\n",
    "    :param A: the list to order\n",
    "    :type A: list of int\n",
    "    :return: ordered list\n",
    "    :rtype: list of int\n",
    "    \"\"\"\n",
    "    k = max(A)  # O(n)\n",
    "    n = len(A)  # O(1)\n",
    "    B = [0 for i in range(n)]  # O(n)\n",
    "    C = [0 for i in range(k+1)]  # O(k) -> O(n)\n",
    "\n",
    "    for i in range(n):  # O(n)\n",
    "        C[A[i]] += 1  # O(1)\n",
    "        # each element C[i] is equal to the number of i in the array A\n",
    "\n",
    "    for i in range(1, k+1):  # O(k) -> O(n)\n",
    "        C[i] += C[i-1]  # O(1)\n",
    "        # each C[i] is now equal to the number of elements in A equal or less than i\n",
    "\n",
    "    for i in range(n-1, -1, -1):  # O(n)\n",
    "        el = A[i]  # O(1)\n",
    "        index = C[el]-1  # O(1)\n",
    "        B[index] = el  # O(1)  # insert A[i] in the right position in B, given by C[i]-1\n",
    "        C[el] += -1  # O(1)  # decrease by one the number of elements equal or less than A[i]\n",
    "\n",
    "    return B"
   ]
  },
  {
   "cell_type": "markdown",
   "metadata": {},
   "source": [
    "After analyzing the **counting_sort** function it is easy to calculate its time complexity, since it corresponds to a sum of complexities not bigger than **_O(n)_**. So, assuming O(k) = Theta(n), the total time complexity of the algorithm is **_O(n)_**.\n",
    "\n",
    "Just in the case of *k* being bigger than *n*, then the complexity would be **O(k)**."
   ]
  },
  {
   "cell_type": "markdown",
   "metadata": {},
   "source": [
    "Given the counting_sort function it's easy to define a new function for ordering a list of char."
   ]
  },
  {
   "cell_type": "code",
   "execution_count": 23,
   "metadata": {},
   "outputs": [],
   "source": [
    "def char_couting_sort(lst):\n",
    "    \"\"\"\n",
    "    This function takes in input a list of char and returns a new list, based on the first\n",
    "    one but ordered alphabetically.\n",
    "    :param lst: list of char\n",
    "    :return: ordered list of char\n",
    "    \"\"\"\n",
    "    A = [(ord(c)-diff) for c in lst]  # convert each char into an integer and put it into a list\n",
    "    B = counting_sort(A)  # order the list\n",
    "    return [chr(x+diff) for x in B]  # convert the integers into chars and return the list"
   ]
  },
  {
   "cell_type": "markdown",
   "metadata": {},
   "source": [
    "The idea behing it is that each char in the english alphabet has a corresponding ASCII code. So we can convert the chars into integers, normalize them so that the first char has value 1, and order the list using the counting sort."
   ]
  },
  {
   "cell_type": "markdown",
   "metadata": {},
   "source": [
    "### Strings counting sort"
   ]
  },
  {
   "cell_type": "markdown",
   "metadata": {},
   "source": [
    "To be able to order alphabetically a list of strings, we need to define to define 2 new different functions:  \n",
    "1. An **imperative function** which orders a list of strings alphabetically based on the position of an internal character and, at the end, groups the strings by their char in position j and returns the new list of lists.  \n",
    "2. A **recursive function** which launch the counting sort function over sublists of the initial list and, at the end, return a single list containing all the strings ordered alphabetically.\n"
   ]
  },
  {
   "cell_type": "markdown",
   "metadata": {},
   "source": [
    "Let's define the imperative one and calculate it's complexity. It's important to specify that this function is just a minor variation of the counting sort function which orders lists of strings."
   ]
  },
  {
   "cell_type": "code",
   "execution_count": 24,
   "metadata": {},
   "outputs": [],
   "source": [
    "def strings_counting_sort(A, j):\n",
    "    \"\"\"\n",
    "    This function takes in input a list and an integer j, \n",
    "    which is the index based on which the functions has to order the list of strings.\n",
    "    It returns a list of lists. Each list has the strings grouped by the j_th item.\n",
    "    :param A: list of strings to order\n",
    "    :return: list of lists, ordered by the j_th item\n",
    "    \"\"\"\n",
    "    diff = ord('A') - 1\n",
    "    k = ord('z') - ord('A') + 1  # O(1)  # number of possible chars at position j\n",
    "    n = len(A)  # O(1)\n",
    "    C = [0 for i in range(k+1)]  # O(k)  # list to store the number of strings with the same char in position j\n",
    "    to_return = []  # this list will store the strings whose length is equal or smaller than j\n",
    "\n",
    "    for i in range(n):  # O(n)  # loop over the list of strings\n",
    "        if len(A[i]) <= j:  # O(1)  # if the string doesn't have the j_th item, \n",
    "            # put the string in the to_return list and go directly to the next string.\n",
    "            to_return.append(A[i])  # O(1)\n",
    "            continue\n",
    "\n",
    "        if A[i][j] == ' ':  # O(1)  # the *space* has index 0 (arbitrary choice)\n",
    "            index = 0  # O(1)\n",
    "        else:\n",
    "            index = ord(A[i][j])-diff  # O(1)\n",
    "            # the value in position *index* in C will be the number of strings containing\n",
    "            # the same char in position j. (e.g. if j==3 and A[i][j] = 'a' then index = ord('a') = 1)\n",
    "        C[index] += 1  # O(1)\n",
    "        # each element C[i] is equal to the number of i in the array A\n",
    "\n",
    "    # now remove from the list A the strings already ordered which are contained in to_return\n",
    "    for word in to_return:  # O(n) # generally it is smaller than n\n",
    "        A.remove(word)  # O(n) # this operation of removing take the total complexity of the algo to O(n^2)\n",
    "\n",
    "    for i in range(1, k+1): # O(k)\n",
    "        C[i] += C[i-1]  # O(1)\n",
    "        # each C[i] is now equal to the number of elements in A equal or less than i\n",
    "\n",
    "    n = len(A)  # re-calculate len(A) since there have been removed some strings\n",
    "    B = [0 for i in range(n)]  # O(n)\n",
    "    for i in range(n-1, -1, -1):  # O(n)\n",
    "        char = ord(A[i][j])-diff  # O(1)\n",
    "        if A[i][j] == ' ':  # O(1)  # the *space* has index 0 (arbitrary choice)\n",
    "            char = 0  # O(1)\n",
    "        index = C[char]-1  # O(1)\n",
    "        B[index] = A[i]  # O(1) # insert A[i] in the right position in B, given by C[i]-1\n",
    "        C[char] += -1  # O(1)  # decrease by one the number of elements equal or less than A[i]\n",
    "\n",
    "    # since the list will be returned to the recursive function, it needs to be a list of lists\n",
    "    # where each list contain the strings with the same char in position j\n",
    "    grouped_list = my_groupby(B, j)  # O(n)\n",
    "    if len(to_return) > 0:  # if it is not empty, insert at the head of the grouped_list the list to_return\n",
    "        grouped_list.insert(0, to_return)  # O(1)\n",
    "    return grouped_list"
   ]
  },
  {
   "cell_type": "markdown",
   "metadata": {},
   "source": [
    "To use the previous function we also need to define a groupby function, which has complexity *O(n)*:"
   ]
  },
  {
   "cell_type": "code",
   "execution_count": 25,
   "metadata": {},
   "outputs": [],
   "source": [
    "def my_groupby(lst, i):\n",
    "    \"\"\"\n",
    "    This function takes in input a list and an index, groups its items based on the index and\n",
    "    returns the list grouped.\n",
    "    :param lst: list to group\n",
    "    :param i: char position to group the items\n",
    "    :return: grouped list\n",
    "    \"\"\"\n",
    "    d = {}\n",
    "    for x in lst:\n",
    "        d.setdefault(x[i], []).append(x)\n",
    "    return list(d.values())"
   ]
  },
  {
   "cell_type": "markdown",
   "metadata": {},
   "source": [
    "So, the time complexity of the **strings_counting_sort** function is not anymore the same as a normal counting_sort. Given the fact that we have to order strings, which are more complex objects than integers, the complexity goes from **_O(n)_** to **_O(n^2)_**.  \n",
    "In particular, it is the section of code where we remove the already ordered strings that takes **O(n^2)** time. And, given the fact that the complexity is given by the sum of O(n), O(1), O(k) and O(n^2) complexities, we obtain a **final running time of _O(n^2)_**.  \n",
    "It is also important to consider that most of the times the strings to remove will be far less than the total number of strings *n*, so in this case the complexity is practically way lower than *O(n)*."
   ]
  },
  {
   "cell_type": "markdown",
   "metadata": {},
   "source": [
    "### Recursive alphabetical sort"
   ]
  },
  {
   "cell_type": "markdown",
   "metadata": {},
   "source": [
    "The following is the recursive function which will take the grouped list of list returned by the *strings_counting_sort* and recurr over each of those list.  \n",
    "The code of the function is pretty simple.  \n",
    "First it checks if the list ha len 1 or if all the strings in it are equal.  \n",
    "Then it sorts the list that has been passed to it.  \n",
    "And, finally, it recurs over each sublist obtained by the sorting function to obtain all sorted lists, which will be merged at the end to form a single sorted list of strings."
   ]
  },
  {
   "cell_type": "code",
   "execution_count": 26,
   "metadata": {},
   "outputs": [],
   "source": [
    "def rec_alphabetical_sort(lst, j):\n",
    "    \"\"\"\n",
    "    This is a recursive function which takes in input a list of strings\n",
    "    and an integer and returns the sorted list.\n",
    "    :param lst: list of strings to sort\n",
    "    :param j: integer\n",
    "    :return: sorted list of strings\n",
    "    \"\"\"\n",
    "    if len(set(lst))<=1:  # O(n), depends on the lenght of lst\n",
    "        # if the list contains one or less strings, or the strings are all equal\n",
    "        return lst\n",
    "\n",
    "    # sort the list using the imperative function.\n",
    "    # the list will be sorted based on the j_th char of each string.\n",
    "    sorted_lst = strings_counting_sort(lst, j)  # O(n^2), as we have already seen\n",
    "    # the list returned is a grouped list where each list\n",
    "    # contains string with the same prefix until the j_th char.\n",
    "\n",
    "    # now the function will recurr over each group of strings (sublist)\n",
    "    # and will append each result to a final list, which will contain\n",
    "    # grouped lists.\n",
    "    j += 1\n",
    "    final = []\n",
    "    for l in sorted_lst:\n",
    "        final.append(rec_alphabetical_sort(l, j))\n",
    "    \n",
    "    # flatten the list of lists and return it\n",
    "    return [word for sublist in final for word in sublist]"
   ]
  },
  {
   "cell_type": "code",
   "execution_count": 27,
   "metadata": {},
   "outputs": [
    {
     "data": {
      "text/plain": [
       "'XGzVQr'"
      ]
     },
     "execution_count": 27,
     "metadata": {},
     "output_type": "execute_result"
    }
   ],
   "source": [
    "import random\n",
    "import string\n",
    "''.join(random.choices(string.ascii_letters, k=6))"
   ]
  },
  {
   "cell_type": "code",
   "execution_count": 34,
   "metadata": {},
   "outputs": [
    {
     "name": "stdout",
     "output_type": "stream",
     "text": [
      "1 2 4 8 16 32 64 128 256 512 1024 2048 4096 8192 16384 32768 65536 131072 262144 524288 1048576 2097152\n"
     ]
    }
   ],
   "source": [
    "lists_list = []\n",
    "\n",
    "for j in range(22):\n",
    "    lst = []\n",
    "    for i in range(2**j):\n",
    "        lst.append(''.join(random.choices(string.ascii_letters + ' ', k=random.randint(1, 50))))\n",
    "    lists_list.append(lst)\n",
    "\n",
    "lens = []\n",
    "for lst in lists_list:\n",
    "    lens.append(len(lst))\n",
    "    \n",
    "print(*lens)"
   ]
  },
  {
   "cell_type": "code",
   "execution_count": 35,
   "metadata": {},
   "outputs": [
    {
     "name": "stdout",
     "output_type": "stream",
     "text": [
      "[0.0, 0.0, 0.0, 0.0, 0.0, 0.0, 0.0, 0.000997304916381836, 0.0019915103912353516, 0.0019533634185791016, 0.004493236541748047, 0.011484384536743164, 0.030962467193603516, 0.06685423851013184, 0.09874463081359863, 0.1757349967956543, 0.3837873935699463, 0.929889440536499, 2.1969804763793945, 4.875424861907959, 10.908299922943115, 30.090034246444702]\n"
     ]
    }
   ],
   "source": [
    "import time\n",
    "\n",
    "times = []\n",
    "for lst in lists_list:\n",
    "    start = time.time()\n",
    "    rec_alphabetical_sort(lst, 0)\n",
    "    times.append(time.time() - start)\n",
    "\n",
    "print(times)"
   ]
  },
  {
   "cell_type": "code",
   "execution_count": 36,
   "metadata": {},
   "outputs": [
    {
     "data": {
      "image/png": "[encoded data removed]",
      "text/plain": [
       "<Figure size 432x288 with 1 Axes>"
      ]
     },
     "metadata": {
      "needs_background": "light"
     },
     "output_type": "display_data"
    }
   ],
   "source": [
    "fig, ax = plt.subplots()\n",
    "ax.plot(lens, times)\n",
    "ax.set(ylabel='time (s)', xlabel='list length',\n",
    "       title='Time complexity of recursive alphabetical sort',\n",
    "      xscale = 'log')\n",
    "plt.show()"
   ]
  },
  {
   "cell_type": "code",
   "execution_count": null,
   "metadata": {},
   "outputs": [],
   "source": []
  }
 ],
 "metadata": {
  "file_extension": ".py",
  "kernelspec": {
   "display_name": "Python 3",
   "language": "python",
   "name": "python3"
  },
  "language_info": {
   "codemirror_mode": {
    "name": "ipython",
    "version": 3
   },
   "file_extension": ".py",
   "mimetype": "text/x-python",
   "name": "python",
   "nbconvert_exporter": "python",
   "pygments_lexer": "ipython3",
   "version": "3.7.5"
  },
  "mimetype": "text/x-python",
  "name": "python",
  "npconvert_exporter": "python",
  "pygments_lexer": "ipython3",
  "version": 3
 },
 "nbformat": 4,
 "nbformat_minor": 2
}
