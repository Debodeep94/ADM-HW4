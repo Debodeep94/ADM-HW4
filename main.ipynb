{
 "cells": [
  {
   "cell_type": "markdown",
   "metadata": {},
   "source": [
    "# ADM-HW4"
   ]
  },
  {
   "cell_type": "markdown",
   "metadata": {},
   "source": [
    "## 1. Hashing task!"
   ]
  },
  {
   "cell_type": "markdown",
   "metadata": {},
   "source": [
    "The first step to take is to create the class for the **BloomFilter**.  \n",
    "\n",
    "The Bloom filter has to take in input the *number of total items* that will be added to it and the *false-positive probability* desired.  \n",
    "Given this 2 variables as input, the filter has to automatically calculate the length needed for the array and the number of hash functions needed to achieve the requested FP-prob.  \n",
    "\n",
    "The BloomFilter is also resposible for *adding* new items and for *checking* if some items are already added to it. For completing this tasks we also need to define a hash function which, given an item, returns the position of the array that has to be turned from 0 to 1. Given the fact that we could need more than 1 hash function, the one actually defined depends on a seed, so if we give in input the same item, but with a different seed, the function returns a different integer.\n",
    "\n",
    "The hash function used is based on the **DJB2-H method**, introduced by Daniel J. Bernstein.  \n",
    "The concept is pretty simple:  \n",
    "1. start with a hash_code equal to 0  \n",
    "2. for each character in the string take its ASCII integer value and sum it to the hash_code multiplied by a prime number. The prime number used in this case is 31 since it has been proved to produce optimal results.  \n",
    "3. since we want a family of k hash functions, multiply the ASCII value by a seed, depending on the number of the hash function utilized at the moment.\n",
    "\n",
    "Before usinge the *DJB2-H* method we tried with the *multiplication method* but the results obtained were far less optimal."
   ]
  },
  {
   "cell_type": "code",
   "execution_count": 1,
   "metadata": {},
   "outputs": [],
   "source": [
    "import matplotlib.pyplot as plt\n",
    "import math\n",
    "import numpy as np\n",
    "import pandas as pd\n",
    "import time"
   ]
  },
  {
   "cell_type": "code",
   "execution_count": 2,
   "metadata": {},
   "outputs": [],
   "source": [
    "class BloomFilter(object):\n",
    "    \"\"\"\n",
    "    This class contains the variable and the methods needed for the implementation and use\n",
    "    of a Bloom Filter\n",
    "    \"\"\"\n",
    "     \n",
    "    def __init__(self, n_items, fp_prob, hash_count = 0):\n",
    "        self.fp_prob = fp_prob  # false positive probability\n",
    "        self.n_items = n_items  # number of items to add to the filter\n",
    "        self.array_len = self.get_array_len(self.n_items, self.fp_prob)  # length of the array\n",
    "        self.hash_count = hash_count  # number of hash functions needed\n",
    "        if hash_count == 0:\n",
    "            self.hash_count = self.get_hash_count(self.n_items, self.array_len)\n",
    "        self.array = np.zeros(self.array_len, dtype=int)  # array initialized to all zeros\n",
    "\n",
    "    def get_array_len(self, n, p):\n",
    "        \"\"\"\n",
    "        Calculate the length of the array needed with n items and a required false positive prob p.\n",
    "        \"\"\"\n",
    "        m = -(n*math.log(p))/(math.log(2)**2)\n",
    "        return int(m)\n",
    "\n",
    "    def get_hash_count(self, n, m):\n",
    "        \"\"\"\n",
    "        Calculate the number of hash functions needed with n items to achieve p false positive prob.\n",
    "        \"\"\"\n",
    "        k = (m/n)*math.log(2)\n",
    "        return int(k)\n",
    "\n",
    "    def hash(self, s, seed):\n",
    "        \"\"\"\n",
    "        Given a string s and an int seed, calculate the hash code of the string using the DJB2-H method.\n",
    "        \"\"\"\n",
    "        g = 31\n",
    "        res = 1\n",
    "\n",
    "        for c in s:\n",
    "            res = g*res + ord(c)*seed\n",
    "\n",
    "        return (res % self.array_len)\n",
    "\n",
    "    def add(self, s):\n",
    "        \"\"\"\n",
    "        Add a string s to the Bloom filter.\n",
    "        \"\"\"\n",
    "        for i in range(1, self.hash_count + 1):\n",
    "            index = self.hash(s, i)  # get hash value\n",
    "            self.array[index] = 1  # set the corresponding index of the array to 1\n",
    "\n",
    "    def exists(self, s):\n",
    "        \"\"\"\n",
    "        Check if the filter contains a string s.\n",
    "        \"\"\"\n",
    "        for i in range(1, self.hash_count + 1):\n",
    "            index = self.hash(s, i)\n",
    "            if self.array[index] == 0:\n",
    "                return False\n",
    "        return True\n",
    "\n",
    "    def describe(self):\n",
    "        \"\"\"\n",
    "        Print the main info about the filter.\n",
    "        \"\"\"\n",
    "        print(\"False-positive probability (%): \", self.fp_prob*100)\n",
    "        print(\"Number of items: \", self.n_items)\n",
    "        print(\"Array length: \", self.array_len)\n",
    "        print(\"Number of hash functions: \", self.hash_count)"
   ]
  },
  {
   "cell_type": "markdown",
   "metadata": {},
   "source": [
    "Now we are going to demostrate that the hash function generates integers with a normal distribution over the total array length. We will use just 100k passwords for this simulation."
   ]
  },
  {
   "cell_type": "code",
   "execution_count": 3,
   "metadata": {},
   "outputs": [],
   "source": [
    "passwords1_path = \"data\\passwords\\passwords1.txt\"\n",
    "passwords2_path = \"data\\passwords\\passwords2.txt\""
   ]
  },
  {
   "cell_type": "code",
   "execution_count": 4,
   "metadata": {},
   "outputs": [],
   "source": [
    "n = 100000\n",
    "BF = BloomFilter(n, 0.001)\n",
    "m = BF.array_len\n",
    "k = BF.hash_count"
   ]
  },
  {
   "cell_type": "code",
   "execution_count": 5,
   "metadata": {},
   "outputs": [
    {
     "name": "stdout",
     "output_type": "stream",
     "text": [
      "1437758\n",
      "9\n"
     ]
    }
   ],
   "source": [
    "print(m)\n",
    "print(k)"
   ]
  },
  {
   "cell_type": "code",
   "execution_count": 6,
   "metadata": {},
   "outputs": [],
   "source": [
    "ls_hash = []\n",
    "with open(passwords1_path, 'r') as passwords1:\n",
    "    for j, pwd in enumerate(passwords1):\n",
    "        if j == n:\n",
    "            break\n",
    "        for i in range(1, k+1):\n",
    "            ls_hash.append(BF.hash(pwd, i))"
   ]
  },
  {
   "cell_type": "markdown",
   "metadata": {},
   "source": [
    "Here are some results:"
   ]
  },
  {
   "cell_type": "code",
   "execution_count": 7,
   "metadata": {},
   "outputs": [
    {
     "data": {
      "text/plain": [
       "count    9.000000e+05\n",
       "mean     7.188949e+05\n",
       "std      4.152766e+05\n",
       "min      1.000000e+00\n",
       "25%      3.594315e+05\n",
       "50%      7.183860e+05\n",
       "75%      1.078774e+06\n",
       "max      1.437757e+06\n",
       "dtype: float64"
      ]
     },
     "execution_count": 7,
     "metadata": {},
     "output_type": "execute_result"
    }
   ],
   "source": [
    "hash_series = pd.Series(ls_hash)\n",
    "hash_series.describe()"
   ]
  },
  {
   "cell_type": "markdown",
   "metadata": {},
   "source": [
    "First of all we can see that all of the integers generated are in the range from 0 to m"
   ]
  },
  {
   "cell_type": "code",
   "execution_count": 8,
   "metadata": {},
   "outputs": [
    {
     "name": "stdout",
     "output_type": "stream",
     "text": [
      "hash_series out of range:  False\n"
     ]
    }
   ],
   "source": [
    "print(\"hash_series out of range: \", hash_series.max() > m or hash_series.min() < 0)"
   ]
  },
  {
   "cell_type": "markdown",
   "metadata": {},
   "source": [
    "Now we will plot the distribution of the integers to demonstrate that it is uniform"
   ]
  },
  {
   "cell_type": "code",
   "execution_count": 9,
   "metadata": {},
   "outputs": [
    {
     "data": {
      "text/plain": [
       "(array([18095., 18024., 18001., 18144., 17722., 17940., 18133., 17886.,\n",
       "        18009., 17882., 18253., 18004., 18009., 18157., 18156., 17893.,\n",
       "        17839., 18175., 18118., 17960., 18059., 17952., 18054., 17783.,\n",
       "        18055., 17990., 18123., 17514., 17791., 17864., 18067., 17731.,\n",
       "        17941., 18235., 18109., 18028., 17878., 18162., 17995., 18278.,\n",
       "        17904., 17914., 17971., 17971., 17958., 18015., 18037., 18112.,\n",
       "        18118., 17991.]),\n",
       " array([1.00000000e+00, 2.87561200e+04, 5.75112400e+04, 8.62663600e+04,\n",
       "        1.15021480e+05, 1.43776600e+05, 1.72531720e+05, 2.01286840e+05,\n",
       "        2.30041960e+05, 2.58797080e+05, 2.87552200e+05, 3.16307320e+05,\n",
       "        3.45062440e+05, 3.73817560e+05, 4.02572680e+05, 4.31327800e+05,\n",
       "        4.60082920e+05, 4.88838040e+05, 5.17593160e+05, 5.46348280e+05,\n",
       "        5.75103400e+05, 6.03858520e+05, 6.32613640e+05, 6.61368760e+05,\n",
       "        6.90123880e+05, 7.18879000e+05, 7.47634120e+05, 7.76389240e+05,\n",
       "        8.05144360e+05, 8.33899480e+05, 8.62654600e+05, 8.91409720e+05,\n",
       "        9.20164840e+05, 9.48919960e+05, 9.77675080e+05, 1.00643020e+06,\n",
       "        1.03518532e+06, 1.06394044e+06, 1.09269556e+06, 1.12145068e+06,\n",
       "        1.15020580e+06, 1.17896092e+06, 1.20771604e+06, 1.23647116e+06,\n",
       "        1.26522628e+06, 1.29398140e+06, 1.32273652e+06, 1.35149164e+06,\n",
       "        1.38024676e+06, 1.40900188e+06, 1.43775700e+06]),\n",
       " <a list of 50 Patch objects>)"
      ]
     },
     "execution_count": 9,
     "metadata": {},
     "output_type": "execute_result"
    },
    {
     "data": {
      "image/png": "[encoded data removed]",
      "text/plain": [
       "<Figure size 432x288 with 1 Axes>"
      ]
     },
     "metadata": {
      "needs_background": "light"
     },
     "output_type": "display_data"
    }
   ],
   "source": [
    "plt.hist(ls_hash, bins = 50)"
   ]
  },
  {
   "cell_type": "markdown",
   "metadata": {},
   "source": [
    "### Bloom Filter Check on the entire dataset"
   ]
  },
  {
   "cell_type": "markdown",
   "metadata": {},
   "source": [
    "Now we can define a new functions to add the passwords to the filter and check the duplicates from anoder list of passwords. We will also calculate the time needed for the process to complete."
   ]
  },
  {
   "cell_type": "code",
   "execution_count": 15,
   "metadata": {},
   "outputs": [],
   "source": [
    "def exec_bloom_filter(BF, passwords1_path, passwords2_path):\n",
    "    \"\"\"\n",
    "    ADD the passwords in passwords1 to the filter and check how many passwords\n",
    "    from passwords2 are duplicates.\n",
    "    \"\"\"\n",
    "    start = time.time()\n",
    "\n",
    "    # add the passwords from passwords1\n",
    "    with open(passwords1_path, 'r') as passwords1:\n",
    "        i = 0\n",
    "        for pwd in passwords1:\n",
    "            BF.add(pwd)\n",
    "            if i%1000000 == 0:\n",
    "                print(i)\n",
    "            i += 1\n",
    "\n",
    "    duplicates = 0\n",
    "    # check the passwords in passwords2\n",
    "    with open(passwords2_path, 'r') as passwords2:\n",
    "        i = 0\n",
    "        for pwd in passwords2:\n",
    "            if i%1000000 == 0:\n",
    "                print(i)\n",
    "            if BF.exists(pwd):\n",
    "                duplicates += 1\n",
    "            i += 1\n",
    "        \n",
    "    end = time.time()\n",
    "    \n",
    "    # return the list of duplicates for eventually saving them in a file\n",
    "    return (duplicates, int(end-start))"
   ]
  },
  {
   "cell_type": "markdown",
   "metadata": {},
   "source": [
    "This is the number of passwords that we will add to the BloomFilter"
   ]
  },
  {
   "cell_type": "code",
   "execution_count": 10,
   "metadata": {},
   "outputs": [
    {
     "data": {
      "text/plain": [
       "100000000"
      ]
     },
     "execution_count": 10,
     "metadata": {},
     "output_type": "execute_result"
    }
   ],
   "source": [
    "n = 0\n",
    "with open(passwords1_path, 'r') as passwords1:\n",
    "    for pwd in passwords1:\n",
    "        n += 1\n",
    "n"
   ]
  },
  {
   "cell_type": "markdown",
   "metadata": {},
   "source": [
    "In this case we will create a Bloom Filter with FP-prob equal to 0.1%."
   ]
  },
  {
   "cell_type": "code",
   "execution_count": 14,
   "metadata": {},
   "outputs": [
    {
     "name": "stdout",
     "output_type": "stream",
     "text": [
      "False-positive probability (%):  0.1\n",
      "Number of items:  100000000\n",
      "Array length:  1437758756\n",
      "Number of hash functions:  9\n"
     ]
    }
   ],
   "source": [
    "BF = BloomFilter(n, 0.001)\n",
    "BF.describe()"
   ]
  },
  {
   "cell_type": "code",
   "execution_count": 16,
   "metadata": {},
   "outputs": [],
   "source": [
    "(duplicates, seconds) = exec_bloom_filter(BF, passwords1_path, passwords2_path)"
   ]
  },
  {
   "cell_type": "code",
   "execution_count": 20,
   "metadata": {},
   "outputs": [
    {
     "data": {
      "text/plain": [
       "3101"
      ]
     },
     "execution_count": 20,
     "metadata": {},
     "output_type": "execute_result"
    }
   ],
   "source": [
    "import gc\n",
    "gc.collect()"
   ]
  },
  {
   "cell_type": "code",
   "execution_count": 18,
   "metadata": {},
   "outputs": [
    {
     "name": "stdout",
     "output_type": "stream",
     "text": [
      "\n",
      "Number of hash function used:  9\n",
      "Number of duplicates detected:  16217499\n",
      "Probability of false positives: (%) 0.1\n",
      "Execution time:  4806  seconds\n"
     ]
    }
   ],
   "source": [
    "print('\\nNumber of hash function used: ', BF.hash_count) \n",
    "print('Number of duplicates detected: ', duplicates) \n",
    "print('Probability of false positives: (%)', BF.fp_prob*100) \n",
    "print('Execution time: ', seconds, ' seconds')"
   ]
  },
  {
   "cell_type": "markdown",
   "metadata": {},
   "source": [
    "This are the results obtained:  \n",
    "- **Number of hash functions used:** 9\n",
    "- **Number of duplicates detected:** 16217499\n",
    "- **Probability of false positives (%):** 0.1\n",
    "- **Execution time:** 4806 seconds -> about 1 hour and 20 minutes"
   ]
  },
  {
   "cell_type": "markdown",
   "metadata": {},
   "source": [
    "#### Another test with different parameters"
   ]
  },
  {
   "cell_type": "markdown",
   "metadata": {},
   "source": [
    "Since the process didn't take too long, we can give it another try but with a smaller FP-Prob and consequently a bigger number of hash functions.\n",
    "\n",
    "We will manually set the number of hash functions required because, even though the BF would calculate a hash_count equal to 13, by doing some math can be proved that an almost equal result can be achieved by using just 11 hash functions."
   ]
  },
  {
   "cell_type": "code",
   "execution_count": null,
   "metadata": {},
   "outputs": [],
   "source": []
  },
  {
   "cell_type": "code",
   "execution_count": 21,
   "metadata": {},
   "outputs": [
    {
     "name": "stdout",
     "output_type": "stream",
     "text": [
      "False-positive probability (%):  0.01\n",
      "Number of items:  100000000\n",
      "Array length:  1917011675\n",
      "Number of hash functions:  11\n"
     ]
    }
   ],
   "source": [
    "BF = BloomFilter(n, 0.0001, 11)\n",
    "BF.describe()"
   ]
  },
  {
   "cell_type": "code",
   "execution_count": null,
   "metadata": {},
   "outputs": [],
   "source": [
    "(duplicates, seconds) = exec_bloom_filter(BF, passwords1_path, passwords2_path)"
   ]
  },
  {
   "cell_type": "code",
   "execution_count": null,
   "metadata": {},
   "outputs": [],
   "source": [
    "print('\\nNumber of hash function used: ', BF.hash_count) \n",
    "print('Number of duplicates detected: ', duplicates) \n",
    "print('Probability of false positives: (%)', BF.fp_prob*100) \n",
    "print('Execution time: ', seconds, ' seconds')"
   ]
  },
  {
   "cell_type": "markdown",
   "metadata": {},
   "source": [
    "#### Some other stats"
   ]
  },
  {
   "cell_type": "code",
   "execution_count": 155,
   "metadata": {},
   "outputs": [],
   "source": [
    "def count_equals(passwords1, passwords2):\n",
    "    count = 0\n",
    "    for p in passwords2:\n",
    "        if p in passwords1:\n",
    "            count += 1\n",
    "    return count"
   ]
  },
  {
   "cell_type": "code",
   "execution_count": null,
   "metadata": {},
   "outputs": [],
   "source": [
    "with open('duplicates.txt', 'w') as f:\n",
    "    for pwd in duplicates:\n",
    "        f.write(\"%s\\n\" % pwd)"
   ]
  },
  {
   "cell_type": "code",
   "execution_count": 67,
   "metadata": {},
   "outputs": [
    {
     "name": "stdout",
     "output_type": "stream",
     "text": [
      "False-positive probability (%):  0.1\n",
      "Number of items:  200000\n",
      "Array length:  2875517\n",
      "Number of hash functions needed:  10\n"
     ]
    }
   ],
   "source": [
    "test_pwd1 = passwords1[100000:300000]\n",
    "test_pwd2 = passwords2[:30000]\n",
    "BF = BloomFilter(len(test_pwd1), 0.001)\n",
    "BF.describe()"
   ]
  },
  {
   "cell_type": "code",
   "execution_count": 68,
   "metadata": {},
   "outputs": [
    {
     "name": "stdout",
     "output_type": "stream",
     "text": [
      "Number of hash function used:  10\n",
      "Number of duplicates detected:  1146\n",
      "Probability of false positives: (%) 0.1\n",
      "Execution time:  7  seconds\n"
     ]
    }
   ],
   "source": [
    "duplicates = exec_bloom_filter(BF, test_pwd1, test_pwd2)"
   ]
  },
  {
   "cell_type": "code",
   "execution_count": 259,
   "metadata": {},
   "outputs": [],
   "source": [
    "# total equals = \n",
    "CE = count_equals(test_pwd1, test_pwd2)"
   ]
  },
  {
   "cell_type": "code",
   "execution_count": 264,
   "metadata": {},
   "outputs": [
    {
     "data": {
      "text/plain": [
       "2.6281550871714807"
      ]
     },
     "execution_count": 264,
     "metadata": {},
     "output_type": "execute_result"
    }
   ],
   "source": [
    "TN = len(test_pwd2) - CE\n",
    "FP = duplicates - CE\n",
    "FPR = FP / (FP + TN)\n",
    "FPR*100"
   ]
  },
  {
   "cell_type": "markdown",
   "metadata": {},
   "source": [
    "## 2. Alphabetical Sort"
   ]
  },
  {
   "cell_type": "markdown",
   "metadata": {},
   "source": [
    "In this section are contained the discussions regarding time complexity about the functions created for the resolution of the exercise."
   ]
  },
  {
   "cell_type": "code",
   "execution_count": 36,
   "metadata": {},
   "outputs": [],
   "source": [
    "import matplotlib.pyplot as plt\n",
    "import pandas as pd\n",
    "import random\n",
    "import string\n",
    "import time"
   ]
  },
  {
   "cell_type": "markdown",
   "metadata": {},
   "source": [
    "### Counting sort"
   ]
  },
  {
   "cell_type": "markdown",
   "metadata": {},
   "source": [
    "**Counting sort** assumes that every int in the input, list with length *n*, is in the range *0 <= k <= n*. With this constraint we can assume that O(k) lies under O(n)."
   ]
  },
  {
   "cell_type": "code",
   "execution_count": 23,
   "metadata": {},
   "outputs": [],
   "source": [
    "def counting_sort(A):\n",
    "    \"\"\"\n",
    "    This function takes in input a list of integers and return a new ordered list, based on the first one.\n",
    "    :param A: the list to order\n",
    "    :type A: list of int\n",
    "    :return: ordered list\n",
    "    :rtype: list of int\n",
    "    \"\"\"\n",
    "    k = max(A)  # O(n)\n",
    "    n = len(A)  # O(1)\n",
    "    B = [0 for i in range(n)]  # O(n)\n",
    "    C = [0 for i in range(k+1)]  # O(k) -> O(n)\n",
    "\n",
    "    for i in range(n):  # O(n)\n",
    "        C[A[i]] += 1  # O(1)\n",
    "        # each element C[i] is equal to the number of i in the array A\n",
    "\n",
    "    for i in range(1, k+1):  # O(k) -> O(n)\n",
    "        C[i] += C[i-1]  # O(1)\n",
    "        # each C[i] is now equal to the number of elements in A equal or less than i\n",
    "\n",
    "    for i in range(n-1, -1, -1):  # O(n)\n",
    "        el = A[i]  # O(1)\n",
    "        index = C[el]-1  # O(1)\n",
    "        B[index] = el  # O(1)  # insert A[i] in the right position in B, given by C[i]-1\n",
    "        C[el] += -1  # O(1)  # decrease by one the number of elements equal or less than A[i]\n",
    "\n",
    "    return B"
   ]
  },
  {
   "cell_type": "markdown",
   "metadata": {},
   "source": [
    "#### Sorting Test"
   ]
  },
  {
   "cell_type": "code",
   "execution_count": 25,
   "metadata": {},
   "outputs": [
    {
     "data": {
      "text/plain": [
       "[4, 0, 0, 10, 2, 11, 5, 12, 3, 5, 11, 11, 8, 7, 6, 11, 3, 1, 0, 4]"
      ]
     },
     "execution_count": 25,
     "metadata": {},
     "output_type": "execute_result"
    }
   ],
   "source": [
    "k = 12  # maximum value\n",
    "A = [random.randint(0, k) for i in range(20)]\n",
    "A"
   ]
  },
  {
   "cell_type": "code",
   "execution_count": 26,
   "metadata": {},
   "outputs": [
    {
     "data": {
      "text/plain": [
       "[0, 0, 0, 1, 2, 3, 3, 4, 4, 5, 5, 6, 7, 8, 10, 11, 11, 11, 11, 12]"
      ]
     },
     "execution_count": 26,
     "metadata": {},
     "output_type": "execute_result"
    }
   ],
   "source": [
    "counting_sort(A)"
   ]
  },
  {
   "cell_type": "markdown",
   "metadata": {},
   "source": [
    "#### Theoretical complexity"
   ]
  },
  {
   "cell_type": "markdown",
   "metadata": {},
   "source": [
    "After analyzing the **counting_sort** function it is easy to calculate its time complexity, since it corresponds to a sum of complexities not bigger than **_O(n)_**. So, assuming O(k) = Theta(n), the total time complexity of the algorithm is **_O(n)_**.\n",
    "\n",
    "Just in the case of *k* being bigger than *n*, then the complexity would be **O(n+k)**."
   ]
  },
  {
   "cell_type": "markdown",
   "metadata": {},
   "source": [
    "### Counting sort for alphabet letters"
   ]
  },
  {
   "cell_type": "markdown",
   "metadata": {},
   "source": [
    "Given the counting_sort function it's easy to define a new function for ordering a list of char."
   ]
  },
  {
   "cell_type": "code",
   "execution_count": 40,
   "metadata": {},
   "outputs": [],
   "source": [
    "diff = ord('A') - 1"
   ]
  },
  {
   "cell_type": "code",
   "execution_count": 29,
   "metadata": {},
   "outputs": [],
   "source": [
    "def char_couting_sort(lst):\n",
    "    \"\"\"\n",
    "    This function takes in input a list of char and returns a new list, based on the first\n",
    "    one but ordered alphabetically.\n",
    "    :param lst: list of char\n",
    "    :return: ordered list of char\n",
    "    \"\"\"\n",
    "    A = [(ord(c)-diff) for c in lst]  # O(n)  # convert each char into an integer and put it into a list\n",
    "    B = counting_sort(A)  # O(n)  # order the list\n",
    "    return [chr(x+diff) for x in B]  # O(n)  # convert the integers into chars and return the list"
   ]
  },
  {
   "cell_type": "markdown",
   "metadata": {},
   "source": [
    "The idea behing it is that each char in the english alphabet has a corresponding ASCII code. So we can convert the chars into integers, normalize them so that the first char has value 1, and order the list using the counting sort."
   ]
  },
  {
   "cell_type": "markdown",
   "metadata": {},
   "source": [
    "#### Theoretical complexity"
   ]
  },
  {
   "cell_type": "markdown",
   "metadata": {},
   "source": [
    "All of the operations run in **O(n)** time: first the list of chars gets converted to a list of integers, then the list of integers gets ordered using the standard counting sort and finally the integers get re-converted to chars.\n",
    "\n",
    "So, the final complexity is **O(n)**."
   ]
  },
  {
   "cell_type": "markdown",
   "metadata": {},
   "source": [
    "#### Empirical complexity"
   ]
  },
  {
   "cell_type": "markdown",
   "metadata": {},
   "source": [
    "We can also demonstrate the previous theoretical complexity by simulation.\n",
    "\n",
    "We are going to create a list of lists containing characters to be ordered. For each list we are going to save the time taken to sort it and then plot the durations of all the sorts."
   ]
  },
  {
   "cell_type": "code",
   "execution_count": 35,
   "metadata": {},
   "outputs": [
    {
     "name": "stdout",
     "output_type": "stream",
     "text": [
      "1 2 4 8 16 32 64 128 256 512 1024 2048 4096 8192 16384 32768 65536 131072 262144 524288 1048576 2097152\n",
      "['F', 'C', 'm', 'j'] ['k', 'c', 'v', 'A', 'a', 'a', 'P', 'i'] ['E', 'V', 'n', 'g', 'U', 'F', 'n', 's', 't', 'B', 'R', 'm', 'K', 'Z', 'l', 'E']\n"
     ]
    }
   ],
   "source": [
    "lists_list = []  # list of lists of characters\n",
    "\n",
    "for j in range(22):\n",
    "    lst = []\n",
    "    for i in range(2**j):\n",
    "        # randomly take a char and add to the list\n",
    "        lst.append(random.choice(string.ascii_letters))\n",
    "    lists_list.append(lst)\n",
    "\n",
    "lens = []  # length of each list\n",
    "for lst in lists_list:\n",
    "    lens.append(len(lst))\n",
    "    \n",
    "print(*lens)\n",
    "print(*lists_list[2:5])"
   ]
  },
  {
   "cell_type": "code",
   "execution_count": 42,
   "metadata": {},
   "outputs": [
    {
     "name": "stdout",
     "output_type": "stream",
     "text": [
      "[0.0, 0.0, 0.0, 0.0, 0.0, 0.0, 0.0, 0.0009970664978027344, 0.0, 0.0, 0.0, 0.0010077953338623047, 0.00199127197265625, 0.005662679672241211, 0.008533239364624023, 0.019891977310180664, 0.03595471382141113, 0.06482601165771484, 0.13280153274536133, 0.27427124977111816, 0.5934092998504639, 1.2309136390686035]\n"
     ]
    }
   ],
   "source": [
    "durations = []\n",
    "for lst in lists_list:\n",
    "    start = time.time()\n",
    "    char_couting_sort(lst)\n",
    "    durations.append(time.time() - start)\n",
    "\n",
    "print(durations)"
   ]
  },
  {
   "cell_type": "code",
   "execution_count": 45,
   "metadata": {},
   "outputs": [
    {
     "data": {
      "image/png": "[encoded data removed]",
      "text/plain": [
       "<Figure size 432x288 with 1 Axes>"
      ]
     },
     "metadata": {
      "needs_background": "light"
     },
     "output_type": "display_data"
    }
   ],
   "source": [
    "fig, ax = plt.subplots()\n",
    "ax.plot(lens, durations)\n",
    "ax.set(ylabel='time (s)', xlabel='list length',\n",
    "       title='Time complexity of counting sort for characters')\n",
    "plt.show()"
   ]
  },
  {
   "cell_type": "markdown",
   "metadata": {},
   "source": [
    "From the plot it is easy to see that the theoretical complexity previously calculated is correct. In fact the algorithm has linear running time **O(n)**."
   ]
  },
  {
   "cell_type": "markdown",
   "metadata": {},
   "source": [
    "### Strings counting sort"
   ]
  },
  {
   "cell_type": "markdown",
   "metadata": {},
   "source": [
    "To be able to order alphabetically a list of strings, we need to define to define 2 new different functions:  \n",
    "1. An **imperative function** which orders a list of strings alphabetically based on the position of an internal character and, at the end, groups the strings by their char in position j and returns the new list of lists.  \n",
    "2. A **recursive function** which launch the counting sort function over sublists of the initial list and, at the end, return a single list containing all the strings ordered alphabetically.\n"
   ]
  },
  {
   "cell_type": "markdown",
   "metadata": {},
   "source": [
    "Let's define the imperative one and calculate it's complexity. It's important to specify that this function is just a minor variation of the counting sort function which orders lists of strings."
   ]
  },
  {
   "cell_type": "code",
   "execution_count": 46,
   "metadata": {},
   "outputs": [],
   "source": [
    "def strings_counting_sort(A, j):\n",
    "    \"\"\"\n",
    "    This function takes in input a list and an integer j, \n",
    "    which is the index based on which the functions has to order the list of strings.\n",
    "    It returns a list of lists. Each list has the strings grouped by the j_th item.\n",
    "    :param A: list of strings to order\n",
    "    :return: list of lists, ordered by the j_th item\n",
    "    \"\"\"\n",
    "    diff = ord('A') - 1\n",
    "    k = ord('z') - ord('A') + 1  # O(1)  # number of possible chars at position j\n",
    "    n = len(A)  # O(1)\n",
    "    C = [0 for i in range(k+1)]  # O(k)  # list to store the number of strings with the same char in position j\n",
    "    to_return = []  # this list will store the strings whose length is equal or smaller than j\n",
    "\n",
    "    for i in range(n):  # O(n)  # loop over the list of strings\n",
    "        if len(A[i]) <= j:  # O(1)  # if the string doesn't have the j_th item, \n",
    "            # put the string in the to_return list and go directly to the next string.\n",
    "            to_return.append(A[i])  # O(1)\n",
    "            continue\n",
    "\n",
    "        if A[i][j] == ' ':  # O(1)  # the *space* has index 0 (arbitrary choice)\n",
    "            index = 0  # O(1)\n",
    "        else:\n",
    "            index = ord(A[i][j])-diff  # O(1)\n",
    "            # the value in position *index* in C will be the number of strings containing\n",
    "            # the same char in position j. (e.g. if j==3 and A[i][j] = 'a' then index = ord('a') = 1)\n",
    "        C[index] += 1  # O(1)\n",
    "        # each element C[i] is equal to the number of i in the array A\n",
    "\n",
    "    # now remove from the list A the strings already ordered which are contained in to_return\n",
    "    for word in to_return:  # O(n) # generally it is smaller than n\n",
    "        A.remove(word)  # O(n) # this operation of removing take the total complexity of the algo to O(n^2)\n",
    "\n",
    "    for i in range(1, k+1): # O(k)\n",
    "        C[i] += C[i-1]  # O(1)\n",
    "        # each C[i] is now equal to the number of elements in A equal or less than i\n",
    "\n",
    "    n = len(A)  # re-calculate len(A) since there have been removed some strings\n",
    "    B = [0 for i in range(n)]  # O(n)\n",
    "    for i in range(n-1, -1, -1):  # O(n)\n",
    "        char = ord(A[i][j])-diff  # O(1)\n",
    "        if A[i][j] == ' ':  # O(1)  # the *space* has index 0 (arbitrary choice)\n",
    "            char = 0  # O(1)\n",
    "        index = C[char]-1  # O(1)\n",
    "        B[index] = A[i]  # O(1) # insert A[i] in the right position in B, given by C[i]-1\n",
    "        C[char] += -1  # O(1)  # decrease by one the number of elements equal or less than A[i]\n",
    "\n",
    "    # since the list will be returned to the recursive function, it needs to be a list of lists\n",
    "    # where each list contain the strings with the same char in position j\n",
    "    grouped_list = my_groupby(B, j)  # O(n)\n",
    "    if len(to_return) > 0:  # if it is not empty, insert at the head of the grouped_list the list to_return\n",
    "        grouped_list.insert(0, to_return)  # O(1)\n",
    "    return grouped_list"
   ]
  },
  {
   "cell_type": "markdown",
   "metadata": {},
   "source": [
    "To use the previous function we also need to define a groupby function, which has complexity *O(n)*:"
   ]
  },
  {
   "cell_type": "code",
   "execution_count": 47,
   "metadata": {},
   "outputs": [],
   "source": [
    "def my_groupby(lst, i):\n",
    "    \"\"\"\n",
    "    This function takes in input a list and an index, groups its items based on the index and\n",
    "    returns the list grouped.\n",
    "    :param lst: list to group\n",
    "    :param i: char position to group the items\n",
    "    :return: grouped list\n",
    "    \"\"\"\n",
    "    d = {}\n",
    "    for x in lst:\n",
    "        d.setdefault(x[i], []).append(x)\n",
    "    return list(d.values())"
   ]
  },
  {
   "cell_type": "markdown",
   "metadata": {},
   "source": [
    "So, the time complexity of the **strings_counting_sort** function is not anymore the same as a normal counting_sort. Given the fact that we have to order strings, which are more complex objects than integers, the complexity goes from **_O(n)_** to **_O(n^2)_**.  \n",
    "In particular, it is the section of code where we remove the already ordered strings that takes **O(n^2)** time. And, given the fact that the complexity is given by the sum of O(n), O(1), O(k) and O(n^2) complexities, we obtain a **final running time of _O(n^2)_**.  \n",
    "It is also important to consider that most of the times the strings to remove will be far less than the total number of strings *n*, so in this case the complexity is practically way lower than *O(n)*."
   ]
  },
  {
   "cell_type": "markdown",
   "metadata": {},
   "source": [
    "### Recursive alphabetical sort"
   ]
  },
  {
   "cell_type": "markdown",
   "metadata": {},
   "source": [
    "The following is the recursive function which will take the grouped list of list returned by the *strings_counting_sort* and recurr over each of those list.  \n",
    "The code of the function is pretty simple.  \n",
    "First it checks if the list ha len 1 or if all the strings in it are equal.  \n",
    "Then it sorts the list that has been passed to it.  \n",
    "And, finally, it recurs over each sublist obtained by the sorting function to obtain all sorted lists, which will be merged at the end to form a single sorted list of strings."
   ]
  },
  {
   "cell_type": "code",
   "execution_count": 48,
   "metadata": {},
   "outputs": [],
   "source": [
    "def rec_alphabetical_sort(lst, j):\n",
    "    \"\"\"\n",
    "    This is a recursive function which takes in input a list of strings\n",
    "    and an integer and returns the sorted list.\n",
    "    :param lst: list of strings to sort\n",
    "    :param j: integer\n",
    "    :return: sorted list of strings\n",
    "    \"\"\"\n",
    "    if len(set(lst))<=1:  # O(n), depends on the lenght of lst\n",
    "        # if the list contains one or less strings, or the strings are all equal\n",
    "        return lst\n",
    "\n",
    "    # sort the list using the imperative function.\n",
    "    # the list will be sorted based on the j_th char of each string.\n",
    "    sorted_lst = strings_counting_sort(lst, j)  # O(n^2), as we have already seen\n",
    "    # the list returned is a grouped list where each list\n",
    "    # contains string with the same prefix until the j_th char.\n",
    "\n",
    "    # now the function will recurr over each group of strings (sublist)\n",
    "    # and will append each result to a final list, which will contain\n",
    "    # grouped lists.\n",
    "    j += 1\n",
    "    final = []\n",
    "    for l in sorted_lst:\n",
    "        final.append(rec_alphabetical_sort(l, j))\n",
    "    \n",
    "    # flatten the list of lists and return it\n",
    "    return [word for sublist in final for word in sublist]"
   ]
  },
  {
   "cell_type": "markdown",
   "metadata": {},
   "source": [
    "### Recursive function empirical comlexity"
   ]
  },
  {
   "cell_type": "markdown",
   "metadata": {},
   "source": [
    "To simulate and plot the running time of the **Recursive alphabetical sort** over different kinds of list with words with differents lengths it is first of all usefull to create the lists with increasing length and containing random words."
   ]
  },
  {
   "cell_type": "code",
   "execution_count": 56,
   "metadata": {},
   "outputs": [
    {
     "name": "stdout",
     "output_type": "stream",
     "text": [
      "1 2 4 8 16 32 64 128 256 512 1024 2048 4096 8192 16384 32768 65536 131072 262144 524288 1048576 2097152 4194304 8388608 16777216\n",
      "['FsoAnOTMoJp DsoDtNybBUxoNpWbGtZiAREtLqYoJyrNSYtog', 'iNGjSmkdmQHZiQrfLdmaIFQfbzGRLIhyohQEpo', 'kWoPQgumPCzDfZmkrQbo', 'pLMwxhDaviJWP'] ['GqiCGl', 'OJTJJgKFLwgnjpt', 'PVPCyzBPyPmJw nqZPuBgLHmxjzSjNylh', 'mMWqvuwCrV', 'euPeqs', 'VudWgyvxAnIdKeiGri', 'GexXRFWhzxxlIxJmdNWNoVaSfxSSjdaYwoRPgwoGNbG', 'KChFYvbuOa']\n"
     ]
    }
   ],
   "source": [
    "lists_list = []\n",
    "\n",
    "for j in range(25):\n",
    "    lst = []\n",
    "    for i in range(2**j):\n",
    "        lst.append(''.join(random.choices(string.ascii_letters + ' ', k=random.randint(1, 50))))\n",
    "    lists_list.append(lst)\n",
    "\n",
    "lens = []\n",
    "for lst in lists_list:\n",
    "    lens.append(len(lst))\n",
    "    \n",
    "print(*lens)\n",
    "print(*lists_list[2:4])"
   ]
  },
  {
   "cell_type": "markdown",
   "metadata": {},
   "source": [
    "Now we can order each single list created and keep track of the time needed to order each one."
   ]
  },
  {
   "cell_type": "code",
   "execution_count": 57,
   "metadata": {},
   "outputs": [
    {
     "name": "stdout",
     "output_type": "stream",
     "text": [
      "[0.0, 0.0, 0.0, 0.0, 0.0, 0.0, 0.0, 0.000997304916381836, 0.0010449886322021484, 0.001987457275390625, 0.004987001419067383, 0.013802528381347656, 0.03285837173461914, 0.04898548126220703, 0.08377671241760254, 0.16573047637939453, 0.35504937171936035, 0.8519423007965088, 1.994880199432373, 4.517345905303955, 9.796698331832886, 27.93807888031006, 104.8657774925232, 555.7942135334015, 2529.8243680000305]\n"
     ]
    }
   ],
   "source": [
    "times = []\n",
    "for lst in lists_list:\n",
    "    start = time.time()\n",
    "    rec_alphabetical_sort(lst, 0)\n",
    "    times.append(time.time() - start)\n",
    "\n",
    "print(times)"
   ]
  },
  {
   "cell_type": "markdown",
   "metadata": {},
   "source": [
    "Last but not least, here is the plot showing that with the increasing length of the lists, the running time increments exponentially."
   ]
  },
  {
   "cell_type": "code",
   "execution_count": 59,
   "metadata": {},
   "outputs": [
    {
     "data": {
      "image/png": "[encoded data removed]",
      "text/plain": [
       "<Figure size 432x288 with 1 Axes>"
      ]
     },
     "metadata": {
      "needs_background": "light"
     },
     "output_type": "display_data"
    }
   ],
   "source": [
    "times.sort()\n",
    "fig, ax = plt.subplots()\n",
    "ax.plot(lens, times)\n",
    "ax.set(ylabel='time (s)', xlabel='list length',\n",
    "       title='Time complexity of recursive alphabetical sort')\n",
    "plt.show()"
   ]
  },
  {
   "cell_type": "markdown",
   "metadata": {},
   "source": [
    "From the graph we can see that, by increasing the length of the lists of strings, the running time increases almost quadratically. We couldn't theoretically find the worst case scenario but, thanks to the empirical solution, we deduce that the time complexity in almost quadratic, so **O(n^2)**."
   ]
  },
  {
   "cell_type": "markdown",
   "metadata": {},
   "source": [
    "## 3. Find Similar Wines!"
   ]
  },
  {
   "cell_type": "code",
   "execution_count": 1,
   "metadata": {},
   "outputs": [],
   "source": [
    "import pandas as pd\n",
    "import numpy as np\n",
    "import math\n",
    "import matplotlib.pyplot as plt\n",
    "import random\n",
    "%matplotlib inline"
   ]
  },
  {
   "cell_type": "code",
   "execution_count": 2,
   "metadata": {},
   "outputs": [
    {
     "name": "stdout",
     "output_type": "stream",
     "text": [
      "1. Title of Database: Wine recognition data\n",
      "\tUpdated Sept 21, 1998 by C.Blake : Added attribute information\n",
      "\n",
      "2. Sources:\n",
      "   (a) Forina, M. et al, PARVUS - An Extendible Package for Data\n",
      "       Exploration, Classification and Correlation. Institute of Pharmaceutical\n",
      "       and Food Analysis and Technologies, Via Brigata Salerno, \n",
      "       16147 Genoa, Italy.\n",
      "\n",
      "   (b) Stefan Aeberhard, email: stefan@coral.cs.jcu.edu.au\n",
      "   (c) July 1991\n",
      "3. Past Usage:\n",
      "\n",
      "   (1)\n",
      "   S. Aeberhard, D. Coomans and O. de Vel,\n",
      "   Comparison of Classifiers in High Dimensional Settings,\n",
      "   Tech. Rep. no. 92-02, (1992), Dept. of Computer Science and Dept. of\n",
      "   Mathematics and Statistics, James Cook University of North Queensland.\n",
      "   (Also submitted to Technometrics).\n",
      "\n",
      "   The data was used with many others for comparing various \n",
      "   classifiers. The classes are separable, though only RDA \n",
      "   has achieved 100% correct classification.\n",
      "   (RDA : 100%, QDA 99.4%, LDA 98.9%, 1NN 96.1% (z-transformed data))\n",
      "   (All results using the leave-one-out technique)\n",
      "\n",
      "   In a classification context, this is a well posed problem \n",
      "   with \"well behaved\" class structures. A good data set \n",
      "   for first testing of a new classifier, but not very \n",
      "   challenging.\n",
      "\n",
      "   (2) \n",
      "   S. Aeberhard, D. Coomans and O. de Vel,\n",
      "   \"THE CLASSIFICATION PERFORMANCE OF RDA\"\n",
      "   Tech. Rep. no. 92-01, (1992), Dept. of Computer Science and Dept. of\n",
      "   Mathematics and Statistics, James Cook University of North Queensland.\n",
      "   (Also submitted to Journal of Chemometrics).\n",
      "\n",
      "   Here, the data was used to illustrate the superior performance of\n",
      "   the use of a new appreciation function with RDA. \n",
      "\n",
      "4. Relevant Information:\n",
      "\n",
      "   -- These data are the results of a chemical analysis of\n",
      "      wines grown in the same region in Italy but derived from three\n",
      "      different cultivars.\n",
      "      The analysis determined the quantities of 13 constituents\n",
      "      found in each of the three types of wines. \n",
      "\n",
      "   -- I think that the initial data set had around 30 variables, but \n",
      "      for some reason I only have the 13 dimensional version. \n",
      "      I had a list of what the 30 or so variables were, but a.) \n",
      "      I lost it, and b.), I would not know which 13 variables\n",
      "      are included in the set.\n",
      "\n",
      "   -- The attributes are (dontated by Riccardo Leardi, \n",
      "\triclea@anchem.unige.it )\n",
      " \t1) Alcohol\n",
      " \t2) Malic acid\n",
      " \t3) Ash\n",
      "\t4) Alcalinity of ash  \n",
      " \t5) Magnesium\n",
      "\t6) Total phenols\n",
      " \t7) Flavanoids\n",
      " \t8) Nonflavanoid phenols\n",
      " \t9) Proanthocyanins\n",
      "\t10)Color intensity\n",
      " \t11)Hue\n",
      " \t12)OD280/OD315 of diluted wines\n",
      " \t13)Proline            \n",
      "\n",
      "5. Number of Instances\n",
      "\n",
      "      \tclass 1 59\n",
      "\tclass 2 71\n",
      "\tclass 3 48\n",
      "\n",
      "6. Number of Attributes \n",
      "\t\n",
      "\t13\n",
      "\n",
      "7. For Each Attribute:\n",
      "\n",
      "\tAll attributes are continuous\n",
      "\t\n",
      "\tNo statistics available, but suggest to standardise\n",
      "\tvariables for certain uses (e.g. for us with classifiers\n",
      "\twhich are NOT scale invariant)\n",
      "\n",
      "\tNOTE: 1st attribute is class identifier (1-3)\n",
      "\n",
      "8. Missing Attribute Values:\n",
      "\n",
      "\tNone\n",
      "\n",
      "9. Class Distribution: number of instances per class\n",
      "\n",
      "      \tclass 1 59\n",
      "\tclass 2 71\n",
      "\tclass 3 48\n",
      "\n"
     ]
    }
   ],
   "source": [
    "with open('wine_names.txt', 'r') as G:\n",
    "    print(G.read())"
   ]
  },
  {
   "cell_type": "markdown",
   "metadata": {},
   "source": [
    "## K means clustering\n",
    "\n",
    "K means clustering is a maching learning technique widely used for unsupervised learning. While conducting a k means clustering, we precisely follow certain steps which in due course of iteration produce the clustered representation of the data.\n",
    "\n",
    "\n",
    "$\\bullet$ step 1: k numbers of initial centroids are defined randomly\n",
    "\n",
    "\n",
    "$\\bullet$ step 2: objects are allocated to the clusters with respect to minimum euclidian distances\n",
    "\n",
    "\n",
    "$\\bullet$ step 3: mean of the attributes of the objects of repective clusters will be defined as new centroids\n",
    "\n",
    "\n",
    "$\\bullet$ step 4: Repeat step 2 and step 3"
   ]
  },
  {
   "cell_type": "code",
   "execution_count": 3,
   "metadata": {},
   "outputs": [],
   "source": [
    "\n",
    "def kmeans(data):\n",
    "    \n",
    "    data = data.sample(frac=1).reset_index(drop=True)\n",
    "    \n",
    "\n",
    "    data['cluster'] = None\n",
    "    data.iloc[0,-1]=1\n",
    "    data.iloc[1,-1]=2\n",
    "    data.iloc[2,-1]=3\n",
    "\n",
    "    mean_cluster1 = list(data[data['cluster']==1].iloc[:,1:-1].mean(axis=0))\n",
    "    mean_cluster2 = list(data[data['cluster']==2].iloc[:,1:-1].mean(axis=0))\n",
    "    mean_cluster3 = list(data[data['cluster']==3].iloc[:,1:-1].mean(axis=0))\n",
    "\n",
    "    distance_metric1=1000\n",
    "    distance_metric2=0\n",
    "    iter_count = 1\n",
    "    abs_diff=1000\n",
    "    \n",
    "    while abs_diff>0.001:\n",
    "        distance_metric2=distance_metric1\n",
    "        distance_metric1=0\n",
    "        for i in range(data.shape[0]):\n",
    "            this_point = list(data.iloc[i,1:-1])\n",
    "            euc_dist_clust1 = math.sqrt(sum([(a - b) ** 2 for a, b in zip(this_point, mean_cluster1)]))\n",
    "            euc_dist_clust2 = math.sqrt(sum([(a - b) ** 2 for a, b in zip(this_point, mean_cluster2)]))\n",
    "            euc_dist_clust3 = math.sqrt(sum([(a - b) ** 2 for a, b in zip(this_point, mean_cluster3)]))\n",
    "            min_dist = min(euc_dist_clust1, euc_dist_clust2, euc_dist_clust3)\n",
    "            if min_dist == euc_dist_clust1:\n",
    "                x = 1\n",
    "            elif min_dist == euc_dist_clust2:\n",
    "                x = 2\n",
    "            else:\n",
    "                x = 3\n",
    "            if data.iloc[i,-1] != x:\n",
    "               \n",
    "                data.iloc[i,-1] = x\n",
    "            mean_cluster1 = list(data[data['cluster']==1].iloc[:,1:-1].mean(axis=0))\n",
    "            mean_cluster2 = list(data[data['cluster']==2].iloc[:,1:-1].mean(axis=0))\n",
    "            mean_cluster3 = list(data[data['cluster']==3].iloc[:,1:-1].mean(axis=0))\n",
    "            distance_metric1 = distance_metric1+min_dist\n",
    "        \n",
    "        abs_diff = abs(distance_metric1-distance_metric2)\n",
    "        iter_count += 1\n",
    "        if (abs_diff==0):\n",
    "            break\n",
    "    return(data)"
   ]
  },
  {
   "cell_type": "markdown",
   "metadata": {},
   "source": [
    "### Import the data"
   ]
  },
  {
   "cell_type": "code",
   "execution_count": 4,
   "metadata": {},
   "outputs": [
    {
     "data": {
      "text/html": [
       "<div>\n",
       "<style scoped>\n",
       "    .dataframe tbody tr th:only-of-type {\n",
       "        vertical-align: middle;\n",
       "    }\n",
       "\n",
       "    .dataframe tbody tr th {\n",
       "        vertical-align: top;\n",
       "    }\n",
       "\n",
       "    .dataframe thead th {\n",
       "        text-align: right;\n",
       "    }\n",
       "</style>\n",
       "<table border=\"1\" class=\"dataframe\">\n",
       "  <thead>\n",
       "    <tr style=\"text-align: right;\">\n",
       "      <th></th>\n",
       "      <th>class</th>\n",
       "      <th>Alcohol</th>\n",
       "      <th>Malic_acid</th>\n",
       "      <th>Ash</th>\n",
       "      <th>Alcalinity_of_ash</th>\n",
       "      <th>Magnesium</th>\n",
       "      <th>Total_phenols</th>\n",
       "      <th>Flavanoids</th>\n",
       "      <th>Nonflavanoid_phenols</th>\n",
       "      <th>Proanthocyanins</th>\n",
       "      <th>Color_intensity</th>\n",
       "      <th>Hue</th>\n",
       "      <th>OD280/OD315_of_diluted_wines</th>\n",
       "      <th>Proline</th>\n",
       "    </tr>\n",
       "  </thead>\n",
       "  <tbody>\n",
       "    <tr>\n",
       "      <td>0</td>\n",
       "      <td>1</td>\n",
       "      <td>14.23</td>\n",
       "      <td>1.71</td>\n",
       "      <td>2.43</td>\n",
       "      <td>15.6</td>\n",
       "      <td>127</td>\n",
       "      <td>2.80</td>\n",
       "      <td>3.06</td>\n",
       "      <td>0.28</td>\n",
       "      <td>2.29</td>\n",
       "      <td>5.64</td>\n",
       "      <td>1.04</td>\n",
       "      <td>3.92</td>\n",
       "      <td>1065</td>\n",
       "    </tr>\n",
       "    <tr>\n",
       "      <td>1</td>\n",
       "      <td>1</td>\n",
       "      <td>13.20</td>\n",
       "      <td>1.78</td>\n",
       "      <td>2.14</td>\n",
       "      <td>11.2</td>\n",
       "      <td>100</td>\n",
       "      <td>2.65</td>\n",
       "      <td>2.76</td>\n",
       "      <td>0.26</td>\n",
       "      <td>1.28</td>\n",
       "      <td>4.38</td>\n",
       "      <td>1.05</td>\n",
       "      <td>3.40</td>\n",
       "      <td>1050</td>\n",
       "    </tr>\n",
       "    <tr>\n",
       "      <td>2</td>\n",
       "      <td>1</td>\n",
       "      <td>13.16</td>\n",
       "      <td>2.36</td>\n",
       "      <td>2.67</td>\n",
       "      <td>18.6</td>\n",
       "      <td>101</td>\n",
       "      <td>2.80</td>\n",
       "      <td>3.24</td>\n",
       "      <td>0.30</td>\n",
       "      <td>2.81</td>\n",
       "      <td>5.68</td>\n",
       "      <td>1.03</td>\n",
       "      <td>3.17</td>\n",
       "      <td>1185</td>\n",
       "    </tr>\n",
       "    <tr>\n",
       "      <td>3</td>\n",
       "      <td>1</td>\n",
       "      <td>14.37</td>\n",
       "      <td>1.95</td>\n",
       "      <td>2.50</td>\n",
       "      <td>16.8</td>\n",
       "      <td>113</td>\n",
       "      <td>3.85</td>\n",
       "      <td>3.49</td>\n",
       "      <td>0.24</td>\n",
       "      <td>2.18</td>\n",
       "      <td>7.80</td>\n",
       "      <td>0.86</td>\n",
       "      <td>3.45</td>\n",
       "      <td>1480</td>\n",
       "    </tr>\n",
       "    <tr>\n",
       "      <td>4</td>\n",
       "      <td>1</td>\n",
       "      <td>13.24</td>\n",
       "      <td>2.59</td>\n",
       "      <td>2.87</td>\n",
       "      <td>21.0</td>\n",
       "      <td>118</td>\n",
       "      <td>2.80</td>\n",
       "      <td>2.69</td>\n",
       "      <td>0.39</td>\n",
       "      <td>1.82</td>\n",
       "      <td>4.32</td>\n",
       "      <td>1.04</td>\n",
       "      <td>2.93</td>\n",
       "      <td>735</td>\n",
       "    </tr>\n",
       "  </tbody>\n",
       "</table>\n",
       "</div>"
      ],
      "text/plain": [
       "   class  Alcohol  Malic_acid   Ash  Alcalinity_of_ash  Magnesium  \\\n",
       "0      1    14.23        1.71  2.43               15.6        127   \n",
       "1      1    13.20        1.78  2.14               11.2        100   \n",
       "2      1    13.16        2.36  2.67               18.6        101   \n",
       "3      1    14.37        1.95  2.50               16.8        113   \n",
       "4      1    13.24        2.59  2.87               21.0        118   \n",
       "\n",
       "   Total_phenols  Flavanoids  Nonflavanoid_phenols  Proanthocyanins  \\\n",
       "0           2.80        3.06                  0.28             2.29   \n",
       "1           2.65        2.76                  0.26             1.28   \n",
       "2           2.80        3.24                  0.30             2.81   \n",
       "3           3.85        3.49                  0.24             2.18   \n",
       "4           2.80        2.69                  0.39             1.82   \n",
       "\n",
       "   Color_intensity   Hue  OD280/OD315_of_diluted_wines  Proline  \n",
       "0             5.64  1.04                          3.92     1065  \n",
       "1             4.38  1.05                          3.40     1050  \n",
       "2             5.68  1.03                          3.17     1185  \n",
       "3             7.80  0.86                          3.45     1480  \n",
       "4             4.32  1.04                          2.93      735  "
      ]
     },
     "execution_count": 4,
     "metadata": {},
     "output_type": "execute_result"
    }
   ],
   "source": [
    "data=pd.read_csv('C:\\\\Users\\Debodeep\\Documents\\Sapienza Learning Materials\\ADM\\ADMHw4\\wine.txt',header=None)\n",
    "data.columns=['class','Alcohol','Malic_acid','Ash','Alcalinity_of_ash','Magnesium','Total_phenols','Flavanoids','Nonflavanoid_phenols','Proanthocyanins','Color_intensity','Hue','OD280/OD315_of_diluted_wines','Proline']\n",
    "#data= data.drop('class', 1)\n",
    "#data= data.drop(columns=[0])\n",
    "data.head()"
   ]
  },
  {
   "cell_type": "markdown",
   "metadata": {},
   "source": [
    "#### Retrieving two specific columns."
   ]
  },
  {
   "cell_type": "code",
   "execution_count": 5,
   "metadata": {},
   "outputs": [],
   "source": [
    "X = data[['Alcohol','Color_intensity']]"
   ]
  },
  {
   "cell_type": "code",
   "execution_count": 6,
   "metadata": {},
   "outputs": [],
   "source": [
    "df=kmeans(X)"
   ]
  },
  {
   "cell_type": "code",
   "execution_count": 7,
   "metadata": {},
   "outputs": [
    {
     "data": {
      "text/html": [
       "<div>\n",
       "<style scoped>\n",
       "    .dataframe tbody tr th:only-of-type {\n",
       "        vertical-align: middle;\n",
       "    }\n",
       "\n",
       "    .dataframe tbody tr th {\n",
       "        vertical-align: top;\n",
       "    }\n",
       "\n",
       "    .dataframe thead th {\n",
       "        text-align: right;\n",
       "    }\n",
       "</style>\n",
       "<table border=\"1\" class=\"dataframe\">\n",
       "  <thead>\n",
       "    <tr style=\"text-align: right;\">\n",
       "      <th></th>\n",
       "      <th>Alcohol</th>\n",
       "      <th>Color_intensity</th>\n",
       "      <th>cluster</th>\n",
       "    </tr>\n",
       "  </thead>\n",
       "  <tbody>\n",
       "    <tr>\n",
       "      <td>0</td>\n",
       "      <td>13.69</td>\n",
       "      <td>5.88</td>\n",
       "      <td>3</td>\n",
       "    </tr>\n",
       "    <tr>\n",
       "      <td>1</td>\n",
       "      <td>13.16</td>\n",
       "      <td>4.00</td>\n",
       "      <td>2</td>\n",
       "    </tr>\n",
       "    <tr>\n",
       "      <td>2</td>\n",
       "      <td>12.84</td>\n",
       "      <td>4.92</td>\n",
       "      <td>3</td>\n",
       "    </tr>\n",
       "    <tr>\n",
       "      <td>3</td>\n",
       "      <td>14.75</td>\n",
       "      <td>5.40</td>\n",
       "      <td>3</td>\n",
       "    </tr>\n",
       "    <tr>\n",
       "      <td>4</td>\n",
       "      <td>13.05</td>\n",
       "      <td>2.60</td>\n",
       "      <td>2</td>\n",
       "    </tr>\n",
       "    <tr>\n",
       "      <td>...</td>\n",
       "      <td>...</td>\n",
       "      <td>...</td>\n",
       "      <td>...</td>\n",
       "    </tr>\n",
       "    <tr>\n",
       "      <td>173</td>\n",
       "      <td>13.11</td>\n",
       "      <td>7.10</td>\n",
       "      <td>1</td>\n",
       "    </tr>\n",
       "    <tr>\n",
       "      <td>174</td>\n",
       "      <td>13.58</td>\n",
       "      <td>8.66</td>\n",
       "      <td>1</td>\n",
       "    </tr>\n",
       "    <tr>\n",
       "      <td>175</td>\n",
       "      <td>12.08</td>\n",
       "      <td>2.90</td>\n",
       "      <td>2</td>\n",
       "    </tr>\n",
       "    <tr>\n",
       "      <td>176</td>\n",
       "      <td>12.29</td>\n",
       "      <td>2.15</td>\n",
       "      <td>2</td>\n",
       "    </tr>\n",
       "    <tr>\n",
       "      <td>177</td>\n",
       "      <td>13.34</td>\n",
       "      <td>3.17</td>\n",
       "      <td>2</td>\n",
       "    </tr>\n",
       "  </tbody>\n",
       "</table>\n",
       "<p>178 rows × 3 columns</p>\n",
       "</div>"
      ],
      "text/plain": [
       "     Alcohol  Color_intensity  cluster\n",
       "0      13.69             5.88        3\n",
       "1      13.16             4.00        2\n",
       "2      12.84             4.92        3\n",
       "3      14.75             5.40        3\n",
       "4      13.05             2.60        2\n",
       "..       ...              ...      ...\n",
       "173    13.11             7.10        1\n",
       "174    13.58             8.66        1\n",
       "175    12.08             2.90        2\n",
       "176    12.29             2.15        2\n",
       "177    13.34             3.17        2\n",
       "\n",
       "[178 rows x 3 columns]"
      ]
     },
     "execution_count": 7,
     "metadata": {},
     "output_type": "execute_result"
    }
   ],
   "source": [
    "# Creating the dataset with each object allocated to a cluster\n",
    "df"
   ]
  },
  {
   "cell_type": "markdown",
   "metadata": {},
   "source": [
    "### Calculating centroids"
   ]
  },
  {
   "cell_type": "code",
   "execution_count": 8,
   "metadata": {},
   "outputs": [
    {
     "data": {
      "text/html": [
       "<div>\n",
       "<style scoped>\n",
       "    .dataframe tbody tr th:only-of-type {\n",
       "        vertical-align: middle;\n",
       "    }\n",
       "\n",
       "    .dataframe tbody tr th {\n",
       "        vertical-align: top;\n",
       "    }\n",
       "\n",
       "    .dataframe thead th {\n",
       "        text-align: right;\n",
       "    }\n",
       "</style>\n",
       "<table border=\"1\" class=\"dataframe\">\n",
       "  <thead>\n",
       "    <tr style=\"text-align: right;\">\n",
       "      <th></th>\n",
       "      <th>Alcohol</th>\n",
       "      <th>Color_intensity</th>\n",
       "    </tr>\n",
       "    <tr>\n",
       "      <th>cluster</th>\n",
       "      <th></th>\n",
       "      <th></th>\n",
       "    </tr>\n",
       "  </thead>\n",
       "  <tbody>\n",
       "    <tr>\n",
       "      <td>1</td>\n",
       "      <td>481.85</td>\n",
       "      <td>314.859999</td>\n",
       "    </tr>\n",
       "    <tr>\n",
       "      <td>2</td>\n",
       "      <td>890.35</td>\n",
       "      <td>212.740000</td>\n",
       "    </tr>\n",
       "    <tr>\n",
       "      <td>3</td>\n",
       "      <td>941.91</td>\n",
       "      <td>372.740000</td>\n",
       "    </tr>\n",
       "  </tbody>\n",
       "</table>\n",
       "</div>"
      ],
      "text/plain": [
       "         Alcohol  Color_intensity\n",
       "cluster                          \n",
       "1         481.85       314.859999\n",
       "2         890.35       212.740000\n",
       "3         941.91       372.740000"
      ]
     },
     "execution_count": 8,
     "metadata": {},
     "output_type": "execute_result"
    }
   ],
   "source": [
    "# Calculating the sum of the attributes\n",
    "df_sum=df.groupby([\"cluster\"]).sum()\n",
    "df_sum"
   ]
  },
  {
   "cell_type": "code",
   "execution_count": 9,
   "metadata": {},
   "outputs": [
    {
     "data": {
      "text/html": [
       "<div>\n",
       "<style scoped>\n",
       "    .dataframe tbody tr th:only-of-type {\n",
       "        vertical-align: middle;\n",
       "    }\n",
       "\n",
       "    .dataframe tbody tr th {\n",
       "        vertical-align: top;\n",
       "    }\n",
       "\n",
       "    .dataframe thead th {\n",
       "        text-align: right;\n",
       "    }\n",
       "</style>\n",
       "<table border=\"1\" class=\"dataframe\">\n",
       "  <thead>\n",
       "    <tr style=\"text-align: right;\">\n",
       "      <th></th>\n",
       "      <th>Alcohol</th>\n",
       "      <th>Color_intensity</th>\n",
       "    </tr>\n",
       "    <tr>\n",
       "      <th>cluster</th>\n",
       "      <th></th>\n",
       "      <th></th>\n",
       "    </tr>\n",
       "  </thead>\n",
       "  <tbody>\n",
       "    <tr>\n",
       "      <td>1</td>\n",
       "      <td>36</td>\n",
       "      <td>36</td>\n",
       "    </tr>\n",
       "    <tr>\n",
       "      <td>2</td>\n",
       "      <td>72</td>\n",
       "      <td>72</td>\n",
       "    </tr>\n",
       "    <tr>\n",
       "      <td>3</td>\n",
       "      <td>70</td>\n",
       "      <td>70</td>\n",
       "    </tr>\n",
       "  </tbody>\n",
       "</table>\n",
       "</div>"
      ],
      "text/plain": [
       "         Alcohol  Color_intensity\n",
       "cluster                          \n",
       "1             36               36\n",
       "2             72               72\n",
       "3             70               70"
      ]
     },
     "execution_count": 9,
     "metadata": {},
     "output_type": "execute_result"
    }
   ],
   "source": [
    "# Counting the number of members in the clusters\n",
    "df_count=df.groupby([\"cluster\"]).count()\n",
    "df_count"
   ]
  },
  {
   "cell_type": "code",
   "execution_count": 10,
   "metadata": {},
   "outputs": [],
   "source": [
    "# Clculating the values of the centroids\n",
    "centroids=df_sum.iloc[0:3]/df_count.iloc[0:3,0:2]"
   ]
  },
  {
   "cell_type": "code",
   "execution_count": 11,
   "metadata": {},
   "outputs": [
    {
     "data": {
      "text/html": [
       "<div>\n",
       "<style scoped>\n",
       "    .dataframe tbody tr th:only-of-type {\n",
       "        vertical-align: middle;\n",
       "    }\n",
       "\n",
       "    .dataframe tbody tr th {\n",
       "        vertical-align: top;\n",
       "    }\n",
       "\n",
       "    .dataframe thead th {\n",
       "        text-align: right;\n",
       "    }\n",
       "</style>\n",
       "<table border=\"1\" class=\"dataframe\">\n",
       "  <thead>\n",
       "    <tr style=\"text-align: right;\">\n",
       "      <th></th>\n",
       "      <th>Alcohol</th>\n",
       "      <th>Color_intensity</th>\n",
       "    </tr>\n",
       "    <tr>\n",
       "      <th>cluster</th>\n",
       "      <th></th>\n",
       "      <th></th>\n",
       "    </tr>\n",
       "  </thead>\n",
       "  <tbody>\n",
       "    <tr>\n",
       "      <td>1</td>\n",
       "      <td>13.384722</td>\n",
       "      <td>8.746111</td>\n",
       "    </tr>\n",
       "    <tr>\n",
       "      <td>2</td>\n",
       "      <td>12.365972</td>\n",
       "      <td>2.954722</td>\n",
       "    </tr>\n",
       "    <tr>\n",
       "      <td>3</td>\n",
       "      <td>13.455857</td>\n",
       "      <td>5.324857</td>\n",
       "    </tr>\n",
       "  </tbody>\n",
       "</table>\n",
       "</div>"
      ],
      "text/plain": [
       "           Alcohol  Color_intensity\n",
       "cluster                            \n",
       "1        13.384722         8.746111\n",
       "2        12.365972         2.954722\n",
       "3        13.455857         5.324857"
      ]
     },
     "execution_count": 11,
     "metadata": {},
     "output_type": "execute_result"
    }
   ],
   "source": [
    "centroids"
   ]
  },
  {
   "cell_type": "code",
   "execution_count": 12,
   "metadata": {},
   "outputs": [],
   "source": [
    "colors = [\"red\",\"green\",\"blue\",\"black\"]"
   ]
  },
  {
   "cell_type": "code",
   "execution_count": 13,
   "metadata": {},
   "outputs": [
    {
     "data": {
      "text/plain": [
       "<matplotlib.collections.PathCollection at 0x1da1520ab00>"
      ]
     },
     "execution_count": 13,
     "metadata": {},
     "output_type": "execute_result"
    },
    {
     "data": {
      "image/png": "[encoded data removed]",
      "text/plain": [
       "<Figure size 432x288 with 1 Axes>"
      ]
     },
     "metadata": {
      "needs_background": "light"
     },
     "output_type": "display_data"
    }
   ],
   "source": [
    "plt.scatter(df['Alcohol'],df[\"Color_intensity\"],marker='.', s=20, linewidths=5)\n",
    "    "
   ]
  },
  {
   "cell_type": "code",
   "execution_count": 14,
   "metadata": {},
   "outputs": [
    {
     "data": {
      "text/plain": [
       "<matplotlib.legend.Legend at 0x1da152b9f28>"
      ]
     },
     "execution_count": 14,
     "metadata": {},
     "output_type": "execute_result"
    },
    {
     "data": {
      "image/png": "[encoded data removed]",
      "text/plain": [
       "<Figure size 432x288 with 1 Axes>"
      ]
     },
     "metadata": {
      "needs_background": "light"
     },
     "output_type": "display_data"
    }
   ],
   "source": [
    "df['subset'] = np.select([df.cluster==1, df.cluster==2, df.cluster==3],\n",
    "                         ['Cluster 1', 'Cluster 2', 'Cluster 3'])\n",
    "for color, label in zip('bgrm', ['Cluster 1', 'Cluster 2', 'Cluster 3']):\n",
    "    subset = df[df.subset == label]\n",
    "    plt.scatter(subset.Alcohol, subset.Color_intensity, s=50, c=color, label=str(label))\n",
    "plt.scatter(centroids[\"Alcohol\"],centroids[\"Color_intensity\"],c=\"black\",s=200,linewidth=1,marker=\"*\", label=\"centroids\")\n",
    "plt.legend()"
   ]
  },
  {
   "cell_type": "markdown",
   "metadata": {},
   "source": [
    "#### Retrieving three specific columns."
   ]
  },
  {
   "cell_type": "code",
   "execution_count": 57,
   "metadata": {},
   "outputs": [],
   "source": [
    "Y = data[['Alcohol','Alcalinity_of_ash','Ash']]"
   ]
  },
  {
   "cell_type": "code",
   "execution_count": 58,
   "metadata": {},
   "outputs": [],
   "source": [
    "df=kmeans(Y)"
   ]
  },
  {
   "cell_type": "code",
   "execution_count": 59,
   "metadata": {},
   "outputs": [
    {
     "data": {
      "text/html": [
       "<div>\n",
       "<style scoped>\n",
       "    .dataframe tbody tr th:only-of-type {\n",
       "        vertical-align: middle;\n",
       "    }\n",
       "\n",
       "    .dataframe tbody tr th {\n",
       "        vertical-align: top;\n",
       "    }\n",
       "\n",
       "    .dataframe thead th {\n",
       "        text-align: right;\n",
       "    }\n",
       "</style>\n",
       "<table border=\"1\" class=\"dataframe\">\n",
       "  <thead>\n",
       "    <tr style=\"text-align: right;\">\n",
       "      <th></th>\n",
       "      <th>Alcohol</th>\n",
       "      <th>Alcalinity_of_ash</th>\n",
       "      <th>Ash</th>\n",
       "      <th>cluster</th>\n",
       "    </tr>\n",
       "  </thead>\n",
       "  <tbody>\n",
       "    <tr>\n",
       "      <td>0</td>\n",
       "      <td>13.67</td>\n",
       "      <td>18.0</td>\n",
       "      <td>1.92</td>\n",
       "      <td>2</td>\n",
       "    </tr>\n",
       "    <tr>\n",
       "      <td>1</td>\n",
       "      <td>13.41</td>\n",
       "      <td>18.8</td>\n",
       "      <td>2.12</td>\n",
       "      <td>2</td>\n",
       "    </tr>\n",
       "    <tr>\n",
       "      <td>2</td>\n",
       "      <td>12.37</td>\n",
       "      <td>19.0</td>\n",
       "      <td>2.16</td>\n",
       "      <td>2</td>\n",
       "    </tr>\n",
       "    <tr>\n",
       "      <td>3</td>\n",
       "      <td>13.32</td>\n",
       "      <td>21.5</td>\n",
       "      <td>2.38</td>\n",
       "      <td>3</td>\n",
       "    </tr>\n",
       "    <tr>\n",
       "      <td>4</td>\n",
       "      <td>14.16</td>\n",
       "      <td>20.0</td>\n",
       "      <td>2.48</td>\n",
       "      <td>2</td>\n",
       "    </tr>\n",
       "    <tr>\n",
       "      <td>...</td>\n",
       "      <td>...</td>\n",
       "      <td>...</td>\n",
       "      <td>...</td>\n",
       "      <td>...</td>\n",
       "    </tr>\n",
       "    <tr>\n",
       "      <td>173</td>\n",
       "      <td>12.87</td>\n",
       "      <td>21.5</td>\n",
       "      <td>2.48</td>\n",
       "      <td>3</td>\n",
       "    </tr>\n",
       "    <tr>\n",
       "      <td>174</td>\n",
       "      <td>12.29</td>\n",
       "      <td>18.0</td>\n",
       "      <td>2.21</td>\n",
       "      <td>2</td>\n",
       "    </tr>\n",
       "    <tr>\n",
       "      <td>175</td>\n",
       "      <td>12.08</td>\n",
       "      <td>17.5</td>\n",
       "      <td>1.70</td>\n",
       "      <td>2</td>\n",
       "    </tr>\n",
       "    <tr>\n",
       "      <td>176</td>\n",
       "      <td>13.29</td>\n",
       "      <td>16.8</td>\n",
       "      <td>2.68</td>\n",
       "      <td>1</td>\n",
       "    </tr>\n",
       "    <tr>\n",
       "      <td>177</td>\n",
       "      <td>14.23</td>\n",
       "      <td>15.6</td>\n",
       "      <td>2.43</td>\n",
       "      <td>1</td>\n",
       "    </tr>\n",
       "  </tbody>\n",
       "</table>\n",
       "<p>178 rows × 4 columns</p>\n",
       "</div>"
      ],
      "text/plain": [
       "     Alcohol  Alcalinity_of_ash   Ash  cluster\n",
       "0      13.67               18.0  1.92        2\n",
       "1      13.41               18.8  2.12        2\n",
       "2      12.37               19.0  2.16        2\n",
       "3      13.32               21.5  2.38        3\n",
       "4      14.16               20.0  2.48        2\n",
       "..       ...                ...   ...      ...\n",
       "173    12.87               21.5  2.48        3\n",
       "174    12.29               18.0  2.21        2\n",
       "175    12.08               17.5  1.70        2\n",
       "176    13.29               16.8  2.68        1\n",
       "177    14.23               15.6  2.43        1\n",
       "\n",
       "[178 rows x 4 columns]"
      ]
     },
     "execution_count": 59,
     "metadata": {},
     "output_type": "execute_result"
    }
   ],
   "source": [
    "# Creating the dataset with each object allocated to a cluster\n",
    "df"
   ]
  },
  {
   "cell_type": "markdown",
   "metadata": {},
   "source": [
    "#### Calculating centroids"
   ]
  },
  {
   "cell_type": "code",
   "execution_count": 60,
   "metadata": {},
   "outputs": [
    {
     "data": {
      "text/html": [
       "<div>\n",
       "<style scoped>\n",
       "    .dataframe tbody tr th:only-of-type {\n",
       "        vertical-align: middle;\n",
       "    }\n",
       "\n",
       "    .dataframe tbody tr th {\n",
       "        vertical-align: top;\n",
       "    }\n",
       "\n",
       "    .dataframe thead th {\n",
       "        text-align: right;\n",
       "    }\n",
       "</style>\n",
       "<table border=\"1\" class=\"dataframe\">\n",
       "  <thead>\n",
       "    <tr style=\"text-align: right;\">\n",
       "      <th></th>\n",
       "      <th>Alcohol</th>\n",
       "      <th>Alcalinity_of_ash</th>\n",
       "      <th>Ash</th>\n",
       "    </tr>\n",
       "    <tr>\n",
       "      <th>cluster</th>\n",
       "      <th></th>\n",
       "      <th></th>\n",
       "      <th></th>\n",
       "    </tr>\n",
       "  </thead>\n",
       "  <tbody>\n",
       "    <tr>\n",
       "      <td>1</td>\n",
       "      <td>650.50</td>\n",
       "      <td>747.1</td>\n",
       "      <td>109.22</td>\n",
       "    </tr>\n",
       "    <tr>\n",
       "      <td>2</td>\n",
       "      <td>1036.16</td>\n",
       "      <td>1568.5</td>\n",
       "      <td>188.62</td>\n",
       "    </tr>\n",
       "    <tr>\n",
       "      <td>3</td>\n",
       "      <td>627.45</td>\n",
       "      <td>1154.5</td>\n",
       "      <td>123.40</td>\n",
       "    </tr>\n",
       "  </tbody>\n",
       "</table>\n",
       "</div>"
      ],
      "text/plain": [
       "         Alcohol  Alcalinity_of_ash     Ash\n",
       "cluster                                    \n",
       "1         650.50              747.1  109.22\n",
       "2        1036.16             1568.5  188.62\n",
       "3         627.45             1154.5  123.40"
      ]
     },
     "execution_count": 60,
     "metadata": {},
     "output_type": "execute_result"
    }
   ],
   "source": [
    "# Calculating the sum of the attributes\n",
    "df_sum=df.groupby([\"cluster\"]).sum()\n",
    "df_sum"
   ]
  },
  {
   "cell_type": "code",
   "execution_count": 61,
   "metadata": {},
   "outputs": [
    {
     "data": {
      "text/html": [
       "<div>\n",
       "<style scoped>\n",
       "    .dataframe tbody tr th:only-of-type {\n",
       "        vertical-align: middle;\n",
       "    }\n",
       "\n",
       "    .dataframe tbody tr th {\n",
       "        vertical-align: top;\n",
       "    }\n",
       "\n",
       "    .dataframe thead th {\n",
       "        text-align: right;\n",
       "    }\n",
       "</style>\n",
       "<table border=\"1\" class=\"dataframe\">\n",
       "  <thead>\n",
       "    <tr style=\"text-align: right;\">\n",
       "      <th></th>\n",
       "      <th>Alcohol</th>\n",
       "      <th>Alcalinity_of_ash</th>\n",
       "      <th>Ash</th>\n",
       "    </tr>\n",
       "    <tr>\n",
       "      <th>cluster</th>\n",
       "      <th></th>\n",
       "      <th></th>\n",
       "      <th></th>\n",
       "    </tr>\n",
       "  </thead>\n",
       "  <tbody>\n",
       "    <tr>\n",
       "      <td>1</td>\n",
       "      <td>48</td>\n",
       "      <td>48</td>\n",
       "      <td>48</td>\n",
       "    </tr>\n",
       "    <tr>\n",
       "      <td>2</td>\n",
       "      <td>81</td>\n",
       "      <td>81</td>\n",
       "      <td>81</td>\n",
       "    </tr>\n",
       "    <tr>\n",
       "      <td>3</td>\n",
       "      <td>49</td>\n",
       "      <td>49</td>\n",
       "      <td>49</td>\n",
       "    </tr>\n",
       "  </tbody>\n",
       "</table>\n",
       "</div>"
      ],
      "text/plain": [
       "         Alcohol  Alcalinity_of_ash  Ash\n",
       "cluster                                 \n",
       "1             48                 48   48\n",
       "2             81                 81   81\n",
       "3             49                 49   49"
      ]
     },
     "execution_count": 61,
     "metadata": {},
     "output_type": "execute_result"
    }
   ],
   "source": [
    "# Counting the number of members in the clusters\n",
    "df_count=df.groupby([\"cluster\"]).count()\n",
    "df_count"
   ]
  },
  {
   "cell_type": "code",
   "execution_count": 62,
   "metadata": {},
   "outputs": [],
   "source": [
    "# Clculating the values of the centroids\n",
    "centroids=df_sum.iloc[0:3]/df_count.iloc[0:3,0:3]"
   ]
  },
  {
   "cell_type": "code",
   "execution_count": 63,
   "metadata": {},
   "outputs": [
    {
     "data": {
      "text/html": [
       "<div>\n",
       "<style scoped>\n",
       "    .dataframe tbody tr th:only-of-type {\n",
       "        vertical-align: middle;\n",
       "    }\n",
       "\n",
       "    .dataframe tbody tr th {\n",
       "        vertical-align: top;\n",
       "    }\n",
       "\n",
       "    .dataframe thead th {\n",
       "        text-align: right;\n",
       "    }\n",
       "</style>\n",
       "<table border=\"1\" class=\"dataframe\">\n",
       "  <thead>\n",
       "    <tr style=\"text-align: right;\">\n",
       "      <th></th>\n",
       "      <th>Alcohol</th>\n",
       "      <th>Alcalinity_of_ash</th>\n",
       "      <th>Ash</th>\n",
       "    </tr>\n",
       "    <tr>\n",
       "      <th>cluster</th>\n",
       "      <th></th>\n",
       "      <th></th>\n",
       "      <th></th>\n",
       "    </tr>\n",
       "  </thead>\n",
       "  <tbody>\n",
       "    <tr>\n",
       "      <td>1</td>\n",
       "      <td>13.552083</td>\n",
       "      <td>15.564583</td>\n",
       "      <td>2.275417</td>\n",
       "    </tr>\n",
       "    <tr>\n",
       "      <td>2</td>\n",
       "      <td>12.792099</td>\n",
       "      <td>19.364198</td>\n",
       "      <td>2.328642</td>\n",
       "    </tr>\n",
       "    <tr>\n",
       "      <td>3</td>\n",
       "      <td>12.805102</td>\n",
       "      <td>23.561224</td>\n",
       "      <td>2.518367</td>\n",
       "    </tr>\n",
       "  </tbody>\n",
       "</table>\n",
       "</div>"
      ],
      "text/plain": [
       "           Alcohol  Alcalinity_of_ash       Ash\n",
       "cluster                                        \n",
       "1        13.552083          15.564583  2.275417\n",
       "2        12.792099          19.364198  2.328642\n",
       "3        12.805102          23.561224  2.518367"
      ]
     },
     "execution_count": 63,
     "metadata": {},
     "output_type": "execute_result"
    }
   ],
   "source": [
    "centroids"
   ]
  },
  {
   "cell_type": "code",
   "execution_count": 64,
   "metadata": {},
   "outputs": [],
   "source": [
    "colors = [\"red\",\"green\",\"blue\",\"black\"]"
   ]
  },
  {
   "cell_type": "code",
   "execution_count": 65,
   "metadata": {},
   "outputs": [
    {
     "data": {
      "text/plain": [
       "<matplotlib.collections.PathCollection at 0x1da168eefd0>"
      ]
     },
     "execution_count": 65,
     "metadata": {},
     "output_type": "execute_result"
    },
    {
     "data": {
      "image/png": "[encoded data removed]",
      "text/plain": [
       "<Figure size 432x288 with 1 Axes>"
      ]
     },
     "metadata": {
      "needs_background": "light"
     },
     "output_type": "display_data"
    }
   ],
   "source": [
    "plt.scatter(df['Alcalinity_of_ash'],df[\"Alcohol\"],df['Ash'],marker='.', linewidths=5)"
   ]
  },
  {
   "cell_type": "code",
   "execution_count": 66,
   "metadata": {},
   "outputs": [
    {
     "data": {
      "text/plain": [
       "<matplotlib.legend.Legend at 0x1da15578da0>"
      ]
     },
     "execution_count": 66,
     "metadata": {},
     "output_type": "execute_result"
    },
    {
     "data": {
      "image/png": "[encoded data removed]",
      "text/plain": [
       "<Figure size 432x288 with 1 Axes>"
      ]
     },
     "metadata": {
      "needs_background": "light"
     },
     "output_type": "display_data"
    }
   ],
   "source": [
    "from mpl_toolkits.mplot3d import Axes3D\n",
    "from matplotlib import pyplot\n",
    "\n",
    "df['subset'] = np.select([df.cluster==1, df.cluster==2, df.cluster==3],\n",
    "                         ['Cluster 1', 'Cluster 2', 'Cluster 3'])\n",
    "\n",
    "fig = plt.figure()\n",
    "fig_size = plt.rcParams[\"figure.figsize\"]\n",
    "fig_size[0] = 6\n",
    "fig_size[1] = 4\n",
    "\n",
    "\n",
    "for color, label in zip('bgrm', ['Cluster 1', 'Cluster 2', 'Cluster 3']):\n",
    "    subset = df[df.subset == label]\n",
    "    plt.scatter(subset.Alcohol,subset.Alcalinity_of_ash,subset.Ash,c=color, label=str(label))\n",
    "plt.scatter(centroids[\"Alcohol\"],centroids[\"Alcalinity_of_ash\"],centroids[\"Ash\"],marker='*',c=\"black\",label=\"Centroids\")\n",
    "plt.legend()"
   ]
  },
  {
   "cell_type": "markdown",
   "metadata": {},
   "source": [
    "#### Plotting in 3D plot"
   ]
  },
  {
   "cell_type": "code",
   "execution_count": 81,
   "metadata": {},
   "outputs": [
    {
     "data": {
      "text/plain": [
       "<Figure size 432x288 with 0 Axes>"
      ]
     },
     "metadata": {},
     "output_type": "display_data"
    },
    {
     "data": {
      "image/png": "[encoded data removed]",
      "text/plain": [
       "<Figure size 576x432 with 1 Axes>"
      ]
     },
     "metadata": {
      "needs_background": "light"
     },
     "output_type": "display_data"
    }
   ],
   "source": [
    "from mpl_toolkits.mplot3d import Axes3D\n",
    "plt.clf()\n",
    "fig = plt.figure(figsize=(8,6))\n",
    "ax = Axes3D(fig, elev=-150, azim=210)\n",
    "for i in range(0,4):\n",
    "    ax.scatter3D(df[df.cluster == i]['Alcohol'],\n",
    "                df[df.cluster == i]['Alcalinity_of_ash'],\n",
    "                df[df.cluster == i]['Ash'], s=100, linewidth=5)\n",
    "ax.set_xlabel(\"Alcohol\")\n",
    "ax.set_ylabel(\"Alcalinity_of_ash\")\n",
    "ax.set_zlabel(\"Ash\")\n",
    "fig.show()"
   ]
  },
  {
   "cell_type": "markdown",
   "metadata": {},
   "source": [
    "## 4. K-means can go wrong!"
   ]
  },
  {
   "cell_type": "markdown",
   "metadata": {},
   "source": [
    "Since this kind of clustering is based on the distribution of data and we choose our initial centroids by considering the range of data, the way in which data are distributed would affect the centroids.\n",
    "\n",
    "1-If the data does not normalize the range of picking the initial centroids which are randomly selected from the range of data. The initial centroids are needed to be updated several times to be an appropriate cluster and be close to remain data. In some cases, there is the possibility that the outlier data with a low density be considered as a separated cluster.\n",
    "\n",
    "2-In addition, in the case data aggregation place in far distances from each other, the initial centroids will lie on the aggregated sides. Then it would take more time and steps to reach the optimum clusters for all data. \n",
    "\n",
    "3- In k-means clustering, it is assumed that all clusters have the same radius from their centroids. So, when the distribution radius of data in a cluster is more than others, it could fail.\n",
    "\n",
    "4-When density in a cluster is more than others, the k-means clustering will fail due to its assumption of the equal number of points in each cluster"
   ]
  }
 ],
 "metadata": {
  "file_extension": ".py",
  "kernelspec": {
   "display_name": "Python 3",
   "language": "python",
   "name": "python3"
  },
  "language_info": {
   "codemirror_mode": {
    "name": "ipython",
    "version": 3
   },
   "file_extension": ".py",
   "mimetype": "text/x-python",
   "name": "python",
   "nbconvert_exporter": "python",
   "pygments_lexer": "ipython3",
   "version": "3.7.5"
  },
  "mimetype": "text/x-python",
  "name": "python",
  "npconvert_exporter": "python",
  "pygments_lexer": "ipython3",
  "version": 3
 },
 "nbformat": 4,
 "nbformat_minor": 2
}
