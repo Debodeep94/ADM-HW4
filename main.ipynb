{
 "cells": [
  {
   "cell_type": "markdown",
   "metadata": {},
   "source": [
    "# ADM-HW4"
   ]
  },
  {
   "cell_type": "markdown",
   "metadata": {},
   "source": [
    "## 2. Alphabetical Sort"
   ]
  },
  {
   "cell_type": "markdown",
   "metadata": {},
   "source": [
    "In this section are contained the discussions regarding time complexity about the functions created for the resolution of the exercise."
   ]
  },
  {
   "cell_type": "markdown",
   "metadata": {},
   "source": [
    "### Counting sort"
   ]
  },
  {
   "cell_type": "markdown",
   "metadata": {},
   "source": [
    "**Counting sort** assumes that every int in the input, list with length *n*, is in the range *0 <= k <= n*. With this constraing we can assume that O(k) lies under O(n)."
   ]
  },
  {
   "cell_type": "code",
   "execution_count": 13,
   "metadata": {},
   "outputs": [],
   "source": [
    "def counting_sort(A):\n",
    "    \"\"\"\n",
    "    This function takes in input a list of integers and return a new ordered list, based on the first one.\n",
    "    :param A: the list to order\n",
    "    :type A: list of int\n",
    "    :return: ordered list\n",
    "    :rtype: list of int\n",
    "    \"\"\"\n",
    "    k = max(A)  # O(n)\n",
    "    n = len(A)  # O(1)\n",
    "    B = [0 for i in range(n)]  # O(n)\n",
    "    C = [0 for i in range(k+1)]  # O(k) -> O(n)\n",
    "\n",
    "    for i in range(n):  # O(n)\n",
    "        C[A[i]] += 1  # O(1)\n",
    "        # each element C[i] is equal to the number of i in the array A\n",
    "\n",
    "    for i in range(1, k+1):  # O(k) -> O(n)\n",
    "        C[i] += C[i-1]  # O(1)\n",
    "        # each C[i] is now equal to the number of elements in A equal or less than i\n",
    "\n",
    "    for i in range(n-1, -1, -1):  # O(n)\n",
    "        el = A[i]  # O(1)\n",
    "        index = C[el]-1  # O(1)\n",
    "        B[index] = el  # O(1)  # insert A[i] in the right position in B, given by C[i]-1\n",
    "        C[el] += -1  # O(1)  # decrease by one the number of elements equal or less than A[i]\n",
    "\n",
    "    return B"
   ]
  },
  {
   "cell_type": "markdown",
   "metadata": {},
   "source": [
    "After analyzing the **counting_sort** function it is easy to calculate its time complexity, since it corresponds to a sum of complexities not bigger than **_O(n)_**. So, assuming O(k) = Theta(n), the total time complexity of the algorithm is **_O(n)_**.\n",
    "\n",
    "Just in the case of *k* being bigger than *n*, then the complexity would be **O(k)**."
   ]
  },
  {
   "cell_type": "markdown",
   "metadata": {},
   "source": [
    "Given the counting_sort function it's easy to define a new function for ordering a list of char."
   ]
  },
  {
   "cell_type": "code",
   "execution_count": 14,
   "metadata": {},
   "outputs": [],
   "source": [
    "def char_couting_sort(lst):\n",
    "    \"\"\"\n",
    "    This function takes in input a list of char and returns a new list, based on the first\n",
    "    one but ordered alphabetically.\n",
    "    :param lst: list of char\n",
    "    :return: ordered list of char\n",
    "    \"\"\"\n",
    "    A = [(ord(c)-diff) for c in lst]  # convert each char into an integer and put it into a list\n",
    "    B = counting_sort(A)  # order the list\n",
    "    return [chr(x+diff) for x in B]  # convert the integers into chars and return the list"
   ]
  },
  {
   "cell_type": "markdown",
   "metadata": {},
   "source": [
    "The idea behing it is that each char in the english alphabet has a corresponding ASCII code. So we can convert the chars into integers, normalize them so that the first char has value 1, and order the list using the counting sort."
   ]
  },
  {
   "cell_type": "markdown",
   "metadata": {},
   "source": [
    "### Strings counting sort"
   ]
  },
  {
   "cell_type": "markdown",
   "metadata": {},
   "source": [
    "To be able to order alphabetically a list of strings, we need to define to define 2 new different functions:  \n",
    "1. An **imperative function** which orders a list of strings alphabetically based on the position of an internal character and, at the end, groups the strings by their char in position j and returns the new list of lists.  \n",
    "2. A **recursive function** which launch the counting sort function over sublists of the initial list and, at the end, return a single list containing all the strings ordered alphabetically.\n"
   ]
  },
  {
   "cell_type": "markdown",
   "metadata": {},
   "source": [
    "Let's define the imperative one and calculate it's complexity. It's important to specify that this function is just a minor variation of the counting sort function which orders lists of strings."
   ]
  },
  {
   "cell_type": "code",
   "execution_count": 37,
   "metadata": {},
   "outputs": [],
   "source": [
    "def strings_counting_sort(A, j):\n",
    "    \"\"\"\n",
    "    This function takes in input a list and an integer j, \n",
    "    which is the index based on which the functions has to order the list of strings.\n",
    "    It returns a list of lists. Each list has the strings grouped by the j_th item.\n",
    "    :param A: list of strings to order\n",
    "    :return: list of lists, ordered by the j_th item\n",
    "    \"\"\"\n",
    "    diff = ord('A') - 1\n",
    "    k = ord('z') - ord('A') + 1  # O(1)  # number of possible chars at position j\n",
    "    n = len(A)  # O(1)\n",
    "    C = [0 for i in range(k+1)]  # O(k)  # list to store the number of strings with the same char in position j\n",
    "    to_return = []  # this list will store the strings whose length is equal or smaller than j\n",
    "\n",
    "    for i in range(n):  # O(n)  # loop over the list of strings\n",
    "        if len(A[i]) <= j:  # O(1)  # if the string doesn't have the j_th item, \n",
    "            # put the string in the to_return list and go directly to the next string.\n",
    "            to_return.append(A[i])  # O(1)\n",
    "            continue\n",
    "\n",
    "        if A[i][j] == ' ':  # O(1)  # the *space* has index 0 (arbitrary choice)\n",
    "            index = 0  # O(1)\n",
    "        else:\n",
    "            index = ord(A[i][j])-diff  # O(1)\n",
    "            # the value in position *index* in C will be the number of strings containing\n",
    "            # the same char in position j. (e.g. if j==3 and A[i][j] = 'a' then index = ord('a') = 1)\n",
    "        C[index] += 1  # O(1)\n",
    "        # each element C[i] is equal to the number of i in the array A\n",
    "\n",
    "    # now remove from the list A the strings already ordered which are contained in to_return\n",
    "    for word in to_return:  # O(n) # generally it is smaller than n\n",
    "        A.remove(word)  # O(n) # this operation of removing take the total complexity of the algo to O(n^2)\n",
    "\n",
    "    for i in range(1, k+1): # O(k)\n",
    "        C[i] += C[i-1]  # O(1)\n",
    "        # each C[i] is now equal to the number of elements in A equal or less than i\n",
    "\n",
    "    n = len(A)  # re-calculate len(A) since there have been removed some strings\n",
    "    B = [0 for i in range(n)]  # O(n)\n",
    "    for i in range(n-1, -1, -1):  # O(n)\n",
    "        char = ord(A[i][j])-diff  # O(1)\n",
    "        index = C[char]-1  # O(1)\n",
    "        B[index] = A[i]  # O(1) # insert A[i] in the right position in B, given by C[i]-1\n",
    "        C[char] += -1  # O(1)  # decrease by one the number of elements equal or less than A[i]\n",
    "\n",
    "    # since the list will be returned to the recursive function, it needs to be a list of lists\n",
    "    # where each list contain the strings with the same char in position j\n",
    "    grouped_list = my_groupby(B, j)  # O(n)\n",
    "    if len(to_return) > 0:  # if it is not empty, insert at the head of the grouped_list the list to_return\n",
    "        grouped_list.insert(0, to_return)  # O(1)\n",
    "    return grouped_list"
   ]
  },
  {
   "cell_type": "markdown",
   "metadata": {},
   "source": [
    "To use the previous function we also need to define a groupby function, which has complexity *O(n)*:"
   ]
  },
  {
   "cell_type": "code",
   "execution_count": 16,
   "metadata": {},
   "outputs": [],
   "source": [
    "def my_groupby(lst, i):\n",
    "    \"\"\"\n",
    "    This function takes in input a list and an index, groups its items based on the index and\n",
    "    returns the list grouped.\n",
    "    :param lst: list to group\n",
    "    :param i: char position to group the items\n",
    "    :return: grouped list\n",
    "    \"\"\"\n",
    "    d = {}\n",
    "    for x in lst:\n",
    "        d.setdefault(x[i], []).append(x)\n",
    "    return list(d.values())"
   ]
  },
  {
   "cell_type": "markdown",
   "metadata": {},
   "source": [
    "So, the time complexity of the **strings_counting_sort** function is not anymore the same as a normal counting_sort. Given the fact that we have to order strings, which are more complex objects than integers, the complexity goes from **_O(n)_** to **_O(n^2)_**.  \n",
    "In particular, it is the section of code where we remove the already ordered strings that takes **O(n^2)** time. And, given the fact that the complexity is given by the sum of O(n), O(1), O(k) and O(n^2) complexities, we obtain a **final running time of _O(n^2)_**.  \n",
    "It is also important to consider that most of the times the strings to remove will be far less than the total number of strings *n*, so in this case the complexity is practically way lower than *O(n)*."
   ]
  },
  {
   "cell_type": "markdown",
   "metadata": {},
   "source": [
    "### Recursive alphabetical sort"
   ]
  },
  {
   "cell_type": "markdown",
   "metadata": {},
   "source": [
    "The following is the recursive function which will take the grouped list of list returned by the *strings_counting_sort* and recurr over each of those list.  \n",
    "The code of the function is pretty simple.  \n",
    "First it checks if the list ha len 1 or if all the strings in it are equal.  \n",
    "Then it sorts the list that has been passed to it.  \n",
    "And, finally, it recurs over each sublist obtained by the sorting function to obtain all sorted lists, which will be merged at the end to form a single sorted list of strings."
   ]
  },
  {
   "cell_type": "code",
   "execution_count": 17,
   "metadata": {},
   "outputs": [],
   "source": [
    "def rec_alphabetical_sort(lst, j):\n",
    "    \"\"\"\n",
    "    This is a recursive function which takes in input a list of strings\n",
    "    and an integer and returns the sorted list.\n",
    "    :param lst: list of strings to sort\n",
    "    :param j: integer\n",
    "    :return: sorted list of strings\n",
    "    \"\"\"\n",
    "    if len(set(lst))<=1:  # O(n), depends on the lenght of lst\n",
    "        # if the list contains one or less strings, or the strings are all equal\n",
    "        return lst\n",
    "\n",
    "    # sort the list using the imperative function.\n",
    "    # the list will be sorted based on the j_th char of each string.\n",
    "    sorted_lst = strings_counting_sort(lst, j)  # O(n^2), as we have already seen\n",
    "    # the list returned is a grouped list where each list\n",
    "    # contains string with the same prefix until the j_th char.\n",
    "\n",
    "    # now the function will recurr over each group of strings (sublist)\n",
    "    # and will append each result to a final list, which will contain\n",
    "    # grouped lists.\n",
    "    j += 1\n",
    "    final = []\n",
    "    for l in sorted_lst:\n",
    "        final.append(rec_alphabetical_sort(l, j))\n",
    "    \n",
    "    # flatten the list of lists and return it\n",
    "    return [word for sublist in final for word in sublist]"
   ]
  },
  {
   "cell_type": "code",
   "execution_count": 12,
   "metadata": {},
   "outputs": [
    {
     "data": {
      "text/plain": [
       "'flCUDf'"
      ]
     },
     "execution_count": 12,
     "metadata": {},
     "output_type": "execute_result"
    }
   ],
   "source": [
    "import random\n",
    "import string\n",
    "''.join(random.choices(string.ascii_letters, k=6))"
   ]
  },
  {
   "cell_type": "code",
   "execution_count": 54,
   "metadata": {},
   "outputs": [
    {
     "name": "stdout",
     "output_type": "stream",
     "text": [
      "1 2 4 8 16 32 64 128 256 512 1024 2048 4096 8192 16384 32768 65536 131072 262144 524288 1048576 2097152\n"
     ]
    }
   ],
   "source": [
    "lists_list = []\n",
    "\n",
    "for j in range(22):\n",
    "    lst = []\n",
    "    for i in range(2**j):\n",
    "        lst.append(''.join(random.choices(string.ascii_letters, k=6)))\n",
    "    lists_list.append(lst)\n",
    "\n",
    "lens = []\n",
    "for lst in lists_list:\n",
    "    lens.append(len(lst))\n",
    "    \n",
    "print(*lens)"
   ]
  },
  {
   "cell_type": "code",
   "execution_count": 55,
   "metadata": {},
   "outputs": [
    {
     "name": "stdout",
     "output_type": "stream",
     "text": [
      "[0.0, 0.0, 0.0, 0.0, 0.0, 0.0, 0.0009965896606445312, 0.0, 0.0010004043579101562, 0.002992391586303711, 0.004959583282470703, 0.016011714935302734, 0.03693127632141113, 0.049877166748046875, 0.08279252052307129, 0.16515350341796875, 0.3490273952484131, 0.8118681907653809, 1.8406364917755127, 3.518716335296631, 6.34688401222229, 13.303797721862793]\n"
     ]
    }
   ],
   "source": [
    "import time\n",
    "\n",
    "times = []\n",
    "for lst in lists_list:\n",
    "    start = time.time()\n",
    "    rec_alphabetical_sort(lst, 0)\n",
    "    times.append(time.time() - start)\n",
    "\n",
    "print(times)"
   ]
  },
  {
   "cell_type": "code",
   "execution_count": 58,
   "metadata": {},
   "outputs": [
    {
     "data": {
      "image/png": "[encoded data removed]",
      "text/plain": [
       "<Figure size 432x288 with 1 Axes>"
      ]
     },
     "metadata": {
      "needs_background": "light"
     },
     "output_type": "display_data"
    }
   ],
   "source": [
    "import matplotlib.pyplot as plt\n",
    "import pandas as pd\n",
    "\n",
    "fig, ax = plt.subplots()\n",
    "ax.plot(lens, times)\n",
    "ax.set(ylabel='time (s)', xlabel='list length',\n",
    "       title='Time complexity of recursive alphabetical sort',\n",
    "      xscale = 'log')\n",
    "plt.show()"
   ]
  },
  {
   "cell_type": "code",
   "execution_count": null,
   "metadata": {},
   "outputs": [],
   "source": []
  }
 ],
 "metadata": {
  "file_extension": ".py",
  "kernelspec": {
   "display_name": "Python 3",
   "language": "python",
   "name": "python3"
  },
  "language_info": {
   "codemirror_mode": {
    "name": "ipython",
    "version": 3
   },
   "file_extension": ".py",
   "mimetype": "text/x-python",
   "name": "python",
   "nbconvert_exporter": "python",
   "pygments_lexer": "ipython3",
   "version": "3.7.5"
  },
  "mimetype": "text/x-python",
  "name": "python",
  "npconvert_exporter": "python",
  "pygments_lexer": "ipython3",
  "version": 3
 },
 "nbformat": 4,
 "nbformat_minor": 2
}
