{
 "cells": [
  {
   "cell_type": "code",
   "execution_count": 75,
   "metadata": {},
   "outputs": [],
   "source": [
    "import math\n",
    "import numpy as np\n",
    "import pandas as pd"
   ]
  },
  {
   "cell_type": "code",
   "execution_count": 9,
   "metadata": {},
   "outputs": [],
   "source": [
    "# Path file passwords2.txt\n",
    "file = \"data\\passwords\\passwords1.txt\"\n",
    "# Read and split lines to avoid \\n\n",
    "with open(file) as f:\n",
    "    passwords = f.read().splitlines()"
   ]
  },
  {
   "cell_type": "code",
   "execution_count": 10,
   "metadata": {},
   "outputs": [
    {
     "data": {
      "text/plain": [
       "['JV#0$S;D@j+c96/8C(W%',\n",
       " \"J,)e+LH'ENmdV5YGWu4B\",\n",
       " 'tR0V2@$SNuU9;<&DafxO',\n",
       " '/DXhI;GNl*nbCzKso=?@',\n",
       " 'b*ZB/egd=!XcvV>K(qY@',\n",
       " '9hcHA\"2)#=$jIypGs1(7',\n",
       " ';FWwk1Bc-%DqAm@nfMPd',\n",
       " 'q(kzd\\'ow%\"j03+aXbtEU',\n",
       " '?!Eq,wm#Z8/lo$GXjQc.',\n",
       " '>6@mb/NSk:K&t4gzpYsv']"
      ]
     },
     "execution_count": 10,
     "metadata": {},
     "output_type": "execute_result"
    }
   ],
   "source": [
    "# Print some results\n",
    "passwords[:10]"
   ]
  },
  {
   "cell_type": "code",
   "execution_count": 16,
   "metadata": {},
   "outputs": [
    {
     "data": {
      "text/plain": [
       "100000000"
      ]
     },
     "execution_count": 16,
     "metadata": {},
     "output_type": "execute_result"
    }
   ],
   "source": [
    "n = len(passwords)\n",
    "n"
   ]
  },
  {
   "cell_type": "code",
   "execution_count": 24,
   "metadata": {},
   "outputs": [],
   "source": [
    "# creating the table_size value:\n",
    "# Here the table size can be taken as 2^30\n",
    "# Adapting Knuth’s suggestion, c to be fraction of the form s / 2^32\n",
    "# where s is an integer in the range 0 < s < 2^w\n",
    "table_size=2^30\n",
    "w=32\n",
    "s=2^15\n",
    "c=s/(2^32)\n"
   ]
  },
  {
   "cell_type": "code",
   "execution_count": 92,
   "metadata": {},
   "outputs": [],
   "source": [
    "class BloomFilter(object):\n",
    "     \n",
    "    def __init__(self, n_items, fp_prob):\n",
    "        self.fp_prob = fp_prob\n",
    "        self.n_items = n_items\n",
    "        self.array_len = self.get_array_len(self.n_items, self.fp_prob)\n",
    "        self.hash_count = self.get_hash_count(self.n_items, self.array_len)\n",
    "        self.array = np.zeros(self.array_len)\n",
    "\n",
    "    def get_array_len(self, n, p):\n",
    "        m = -(n*np.log(p))/((np.log(2)**2))\n",
    "        return int(m)\n",
    "\n",
    "    def get_hash_count(self, n, m):\n",
    "        k = (m/n)*np.log(2)\n",
    "        return int(k)\n",
    "\n",
    "    def hash_mul(self, s, seed):\n",
    "        m = self.array_len\n",
    "        pwr = 1\n",
    "        key = 0\n",
    "        for _, character in enumerate(s):\n",
    "            key = (key+ (ord(character)*pwr)%m ) %m\n",
    "            pwr=(pwr*128)%m\n",
    "        A = 0.618 / seed\n",
    "        h = math.floor(m * ((key*A)%1))\n",
    "        return int(h)\n",
    "\n",
    "    def add(self, item):\n",
    "        for i in range(1, self.hash_count + 1):\n",
    "            index = self.hash_mul(item, i)\n",
    "            self.array[index] = 1\n",
    "\n",
    "    def exists(self, item):\n",
    "        exists = True\n",
    "        for i in range(1, self.hash_count + 1):\n",
    "            index = hash_mul(item, i)\n",
    "            exists = (self.array[index] == 1)\n",
    "            if not exists:\n",
    "                break\n",
    "        return exists\n",
    "    \n",
    "    def describe(self):\n",
    "        print(\"False-prositive probability: \", self.fp_prob)\n",
    "        print(\"Number of items: \", self.n_items)\n",
    "        print(\"Array length: \", self.array_len)\n",
    "        print(\"Number of hash functions needed: \", self.hash_count)"
   ]
  },
  {
   "cell_type": "markdown",
   "metadata": {},
   "source": [
    "#### Creating hash table:"
   ]
  },
  {
   "cell_type": "code",
   "execution_count": 77,
   "metadata": {},
   "outputs": [],
   "source": [
    "BF = BloomFilter(n, 0.01)\n",
    "m = BF.array_len\n",
    "k = BF.hash_count"
   ]
  },
  {
   "cell_type": "code",
   "execution_count": 78,
   "metadata": {},
   "outputs": [
    {
     "name": "stdout",
     "output_type": "stream",
     "text": [
      "958505837\n",
      "6\n"
     ]
    }
   ],
   "source": [
    "print(m)\n",
    "print(k)"
   ]
  },
  {
   "cell_type": "code",
   "execution_count": 79,
   "metadata": {},
   "outputs": [],
   "source": [
    "ls_hash=[]\n",
    "for pwd in passwords[:30000]:\n",
    "    for i in range(1, k+1):\n",
    "        ls_hash.append(hash_mul(pwd, m, i))"
   ]
  },
  {
   "cell_type": "code",
   "execution_count": 80,
   "metadata": {},
   "outputs": [
    {
     "data": {
      "text/plain": [
       "count    1.800000e+05\n",
       "mean     4.772056e+08\n",
       "std      2.770036e+08\n",
       "min      0.000000e+00\n",
       "25%      2.377094e+08\n",
       "50%      4.763774e+08\n",
       "75%      7.169623e+08\n",
       "max      9.581224e+08\n",
       "dtype: float64"
      ]
     },
     "execution_count": 80,
     "metadata": {},
     "output_type": "execute_result"
    }
   ],
   "source": [
    "# Print some results\n",
    "hash_series = pd.Series(ls_hash)\n",
    "hash_series.describe()"
   ]
  },
  {
   "cell_type": "code",
   "execution_count": 81,
   "metadata": {},
   "outputs": [
    {
     "name": "stdout",
     "output_type": "stream",
     "text": [
      "hash_series out of range:  False\n"
     ]
    }
   ],
   "source": [
    "print(\"hash_series out of range: \", hash_series.max() > m)"
   ]
  },
  {
   "cell_type": "code",
   "execution_count": 82,
   "metadata": {},
   "outputs": [],
   "source": [
    "import matplotlib.pyplot as plt"
   ]
  },
  {
   "cell_type": "code",
   "execution_count": 83,
   "metadata": {},
   "outputs": [
    {
     "data": {
      "text/plain": [
       "(array([3731., 3836., 3692., 3589., 3575., 3530., 3496., 3625., 3581.,\n",
       "        3625., 3581., 3654., 3611., 3502., 3597., 3574., 3692., 3648.,\n",
       "        3687., 3622., 3613., 3638., 3576., 3605., 3590., 3575., 3507.,\n",
       "        3567., 3559., 3493., 3634., 3570., 3588., 3665., 3731., 3570.,\n",
       "        3619., 3552., 3573., 3581., 3596., 3522., 3553., 3619., 3599.,\n",
       "        3521., 3560., 3648., 3566., 3562.]),\n",
       " array([0.00000000e+00, 1.91624487e+07, 3.83248974e+07, 5.74873461e+07,\n",
       "        7.66497948e+07, 9.58122435e+07, 1.14974692e+08, 1.34137141e+08,\n",
       "        1.53299590e+08, 1.72462038e+08, 1.91624487e+08, 2.10786936e+08,\n",
       "        2.29949384e+08, 2.49111833e+08, 2.68274282e+08, 2.87436730e+08,\n",
       "        3.06599179e+08, 3.25761628e+08, 3.44924077e+08, 3.64086525e+08,\n",
       "        3.83248974e+08, 4.02411423e+08, 4.21573871e+08, 4.40736320e+08,\n",
       "        4.59898769e+08, 4.79061218e+08, 4.98223666e+08, 5.17386115e+08,\n",
       "        5.36548564e+08, 5.55711012e+08, 5.74873461e+08, 5.94035910e+08,\n",
       "        6.13198358e+08, 6.32360807e+08, 6.51523256e+08, 6.70685704e+08,\n",
       "        6.89848153e+08, 7.09010602e+08, 7.28173051e+08, 7.47335499e+08,\n",
       "        7.66497948e+08, 7.85660397e+08, 8.04822845e+08, 8.23985294e+08,\n",
       "        8.43147743e+08, 8.62310192e+08, 8.81472640e+08, 9.00635089e+08,\n",
       "        9.19797538e+08, 9.38959986e+08, 9.58122435e+08]),\n",
       " <a list of 50 Patch objects>)"
      ]
     },
     "execution_count": 83,
     "metadata": {},
     "output_type": "execute_result"
    },
    {
     "data": {
      "image/png": "[encoded data removed]",
      "text/plain": [
       "<Figure size 432x288 with 1 Axes>"
      ]
     },
     "metadata": {
      "needs_background": "light"
     },
     "output_type": "display_data"
    }
   ],
   "source": [
    "plt.hist(ls_hash, bins = 50)"
   ]
  },
  {
   "cell_type": "markdown",
   "metadata": {},
   "source": [
    "### Test"
   ]
  },
  {
   "cell_type": "markdown",
   "metadata": {},
   "source": [
    "Now we'll add 30k password to the bloom filter and then we'll take a look at the final array."
   ]
  },
  {
   "cell_type": "code",
   "execution_count": 93,
   "metadata": {},
   "outputs": [
    {
     "name": "stdout",
     "output_type": "stream",
     "text": [
      "False-prositive probability:  0.01\n",
      "Number of items:  30000\n",
      "Array length:  287551\n",
      "Number of hash functions needed:  6\n"
     ]
    }
   ],
   "source": [
    "n = 30000\n",
    "BF = BloomFilter(n, 0.01)\n",
    "BF.describe()"
   ]
  },
  {
   "cell_type": "code",
   "execution_count": 95,
   "metadata": {},
   "outputs": [],
   "source": [
    "for pwd in passwords[:n]:\n",
    "    BF.add(pwd)"
   ]
  },
  {
   "cell_type": "code",
   "execution_count": 98,
   "metadata": {},
   "outputs": [
    {
     "data": {
      "text/plain": [
       "array([1., 0., 0., ..., 0., 0., 0.])"
      ]
     },
     "execution_count": 98,
     "metadata": {},
     "output_type": "execute_result"
    }
   ],
   "source": [
    "BF.array"
   ]
  }
 ],
 "metadata": {
  "kernelspec": {
   "display_name": "Python 3",
   "language": "python",
   "name": "python3"
  },
  "language_info": {
   "codemirror_mode": {
    "name": "ipython",
    "version": 3
   },
   "file_extension": ".py",
   "mimetype": "text/x-python",
   "name": "python",
   "nbconvert_exporter": "python",
   "pygments_lexer": "ipython3",
   "version": "3.7.5"
  }
 },
 "nbformat": 4,
 "nbformat_minor": 2
}
