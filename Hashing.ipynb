{
 "cells": [
  {
   "cell_type": "code",
   "execution_count": 14,
   "metadata": {},
   "outputs": [],
   "source": [
    "import math"
   ]
  },
  {
   "cell_type": "code",
   "execution_count": 1,
   "metadata": {},
   "outputs": [],
   "source": [
    "# Path file passwords2.txt\n",
    "file = \"C:\\\\Users\\Debodeep\\Documents\\Sapienza Learning Materials\\ADM\\ADMHw4\\passwords1.txt\"\n",
    "# Read and split lines to avoid \\n\n",
    "with open(file) as f:\n",
    "    elements = f.read().splitlines()"
   ]
  },
  {
   "cell_type": "code",
   "execution_count": 4,
   "metadata": {},
   "outputs": [
    {
     "data": {
      "text/plain": [
       "['JV#0$S;D@j+c96/8C(W%',\n",
       " \"J,)e+LH'ENmdV5YGWu4B\",\n",
       " 'tR0V2@$SNuU9;<&DafxO',\n",
       " '/DXhI;GNl*nbCzKso=?@',\n",
       " 'b*ZB/egd=!XcvV>K(qY@',\n",
       " '9hcHA\"2)#=$jIypGs1(7',\n",
       " ';FWwk1Bc-%DqAm@nfMPd',\n",
       " 'q(kzd\\'ow%\"j03+aXbtEU',\n",
       " '?!Eq,wm#Z8/lo$GXjQc.',\n",
       " '>6@mb/NSk:K&t4gzpYsv']"
      ]
     },
     "execution_count": 4,
     "metadata": {},
     "output_type": "execute_result"
    }
   ],
   "source": [
    "# Print some results\n",
    "elements[:10]"
   ]
  },
  {
   "cell_type": "code",
   "execution_count": 5,
   "metadata": {},
   "outputs": [
    {
     "data": {
      "text/plain": [
       "100000000"
      ]
     },
     "execution_count": 5,
     "metadata": {},
     "output_type": "execute_result"
    }
   ],
   "source": [
    "len(elements)"
   ]
  },
  {
   "cell_type": "code",
   "execution_count": null,
   "metadata": {},
   "outputs": [],
   "source": []
  },
  {
   "cell_type": "code",
   "execution_count": 20,
   "metadata": {},
   "outputs": [],
   "source": [
    "# Creating Hash funtion:\n",
    "\n",
    "def hashtab(string,table_size,c):\n",
    "    result=0\n",
    "    hash_int=[ord(char) for char in string] # Split string and convert each char to ASCII\n",
    "    hash_int.sort()\n",
    "    for asc_char in hash_int:\n",
    "        result+=asc_char\n",
    "    return (math.floor(table_size*(result*c)))"
   ]
  },
  {
   "cell_type": "code",
   "execution_count": 21,
   "metadata": {},
   "outputs": [],
   "source": [
    "# creating the table_size value:\n",
    "# Here the table size can be taken as 2^30\n",
    "# Adapting Knuth’s suggestion, c to be fraction of the form s / 2^32\n",
    "# where s is an integer in the range 0 < s < 2^w\n",
    "table_size=2^30\n",
    "w=32\n",
    "s=2^15\n",
    "c=s/(2^32)\n"
   ]
  },
  {
   "cell_type": "markdown",
   "metadata": {},
   "source": [
    "#### Creating hash table:"
   ]
  },
  {
   "cell_type": "code",
   "execution_count": 22,
   "metadata": {},
   "outputs": [],
   "source": [
    "ls_hash=[]\n",
    "for pwrds in elements:\n",
    "    ls_hash.append(hashtab(pwrds,table_size,c))"
   ]
  },
  {
   "cell_type": "code",
   "execution_count": 23,
   "metadata": {},
   "outputs": [
    {
     "data": {
      "text/plain": [
       "[13339, 15705, 16326, 17386, 16861, 14945, 17407, 17375, 16315, 18200]"
      ]
     },
     "execution_count": 23,
     "metadata": {},
     "output_type": "execute_result"
    }
   ],
   "source": [
    "# Print some results\n",
    "ls_hash[:10]"
   ]
  },
  {
   "cell_type": "code",
   "execution_count": null,
   "metadata": {},
   "outputs": [],
   "source": []
  }
 ],
 "metadata": {
  "kernelspec": {
   "display_name": "Python 3",
   "language": "python",
   "name": "python3"
  },
  "language_info": {
   "codemirror_mode": {
    "name": "ipython",
    "version": 3
   },
   "file_extension": ".py",
   "mimetype": "text/x-python",
   "name": "python",
   "nbconvert_exporter": "python",
   "pygments_lexer": "ipython3",
   "version": "3.7.1"
  }
 },
 "nbformat": 4,
 "nbformat_minor": 2
}
