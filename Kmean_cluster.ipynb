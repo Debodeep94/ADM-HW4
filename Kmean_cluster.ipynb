{
 "cells": [
  {
   "cell_type": "code",
   "execution_count": 1,
   "metadata": {},
   "outputs": [],
   "source": [
    "import matplotlib.pyplot as plt\n",
    "from matplotlib import style\n",
    "import numpy as np\n",
    "import pandas as pd"
   ]
  },
  {
   "cell_type": "code",
   "execution_count": 2,
   "metadata": {},
   "outputs": [
    {
     "data": {
      "text/html": [
       "<div>\n",
       "<style scoped>\n",
       "    .dataframe tbody tr th:only-of-type {\n",
       "        vertical-align: middle;\n",
       "    }\n",
       "\n",
       "    .dataframe tbody tr th {\n",
       "        vertical-align: top;\n",
       "    }\n",
       "\n",
       "    .dataframe thead th {\n",
       "        text-align: right;\n",
       "    }\n",
       "</style>\n",
       "<table border=\"1\" class=\"dataframe\">\n",
       "  <thead>\n",
       "    <tr style=\"text-align: right;\">\n",
       "      <th></th>\n",
       "      <th>class</th>\n",
       "      <th>Alcohol</th>\n",
       "      <th>Malic_acid</th>\n",
       "      <th>Ash</th>\n",
       "      <th>Alcalinity_of_ash</th>\n",
       "      <th>Magnesium</th>\n",
       "      <th>Total_phenols</th>\n",
       "      <th>Flavanoids</th>\n",
       "      <th>Nonflavanoid_phenols</th>\n",
       "      <th>Proanthocyanins</th>\n",
       "      <th>Color_intensity</th>\n",
       "      <th>Hue</th>\n",
       "      <th>OD280/OD315_of_diluted_wines</th>\n",
       "      <th>Proline</th>\n",
       "    </tr>\n",
       "  </thead>\n",
       "  <tbody>\n",
       "    <tr>\n",
       "      <td>0</td>\n",
       "      <td>1</td>\n",
       "      <td>14.23</td>\n",
       "      <td>1.71</td>\n",
       "      <td>2.43</td>\n",
       "      <td>15.6</td>\n",
       "      <td>127</td>\n",
       "      <td>2.80</td>\n",
       "      <td>3.06</td>\n",
       "      <td>0.28</td>\n",
       "      <td>2.29</td>\n",
       "      <td>5.64</td>\n",
       "      <td>1.04</td>\n",
       "      <td>3.92</td>\n",
       "      <td>1065</td>\n",
       "    </tr>\n",
       "    <tr>\n",
       "      <td>1</td>\n",
       "      <td>1</td>\n",
       "      <td>13.20</td>\n",
       "      <td>1.78</td>\n",
       "      <td>2.14</td>\n",
       "      <td>11.2</td>\n",
       "      <td>100</td>\n",
       "      <td>2.65</td>\n",
       "      <td>2.76</td>\n",
       "      <td>0.26</td>\n",
       "      <td>1.28</td>\n",
       "      <td>4.38</td>\n",
       "      <td>1.05</td>\n",
       "      <td>3.40</td>\n",
       "      <td>1050</td>\n",
       "    </tr>\n",
       "    <tr>\n",
       "      <td>2</td>\n",
       "      <td>1</td>\n",
       "      <td>13.16</td>\n",
       "      <td>2.36</td>\n",
       "      <td>2.67</td>\n",
       "      <td>18.6</td>\n",
       "      <td>101</td>\n",
       "      <td>2.80</td>\n",
       "      <td>3.24</td>\n",
       "      <td>0.30</td>\n",
       "      <td>2.81</td>\n",
       "      <td>5.68</td>\n",
       "      <td>1.03</td>\n",
       "      <td>3.17</td>\n",
       "      <td>1185</td>\n",
       "    </tr>\n",
       "    <tr>\n",
       "      <td>3</td>\n",
       "      <td>1</td>\n",
       "      <td>14.37</td>\n",
       "      <td>1.95</td>\n",
       "      <td>2.50</td>\n",
       "      <td>16.8</td>\n",
       "      <td>113</td>\n",
       "      <td>3.85</td>\n",
       "      <td>3.49</td>\n",
       "      <td>0.24</td>\n",
       "      <td>2.18</td>\n",
       "      <td>7.80</td>\n",
       "      <td>0.86</td>\n",
       "      <td>3.45</td>\n",
       "      <td>1480</td>\n",
       "    </tr>\n",
       "    <tr>\n",
       "      <td>4</td>\n",
       "      <td>1</td>\n",
       "      <td>13.24</td>\n",
       "      <td>2.59</td>\n",
       "      <td>2.87</td>\n",
       "      <td>21.0</td>\n",
       "      <td>118</td>\n",
       "      <td>2.80</td>\n",
       "      <td>2.69</td>\n",
       "      <td>0.39</td>\n",
       "      <td>1.82</td>\n",
       "      <td>4.32</td>\n",
       "      <td>1.04</td>\n",
       "      <td>2.93</td>\n",
       "      <td>735</td>\n",
       "    </tr>\n",
       "  </tbody>\n",
       "</table>\n",
       "</div>"
      ],
      "text/plain": [
       "   class  Alcohol  Malic_acid   Ash  Alcalinity_of_ash  Magnesium  \\\n",
       "0      1    14.23        1.71  2.43               15.6        127   \n",
       "1      1    13.20        1.78  2.14               11.2        100   \n",
       "2      1    13.16        2.36  2.67               18.6        101   \n",
       "3      1    14.37        1.95  2.50               16.8        113   \n",
       "4      1    13.24        2.59  2.87               21.0        118   \n",
       "\n",
       "   Total_phenols  Flavanoids  Nonflavanoid_phenols  Proanthocyanins  \\\n",
       "0           2.80        3.06                  0.28             2.29   \n",
       "1           2.65        2.76                  0.26             1.28   \n",
       "2           2.80        3.24                  0.30             2.81   \n",
       "3           3.85        3.49                  0.24             2.18   \n",
       "4           2.80        2.69                  0.39             1.82   \n",
       "\n",
       "   Color_intensity   Hue  OD280/OD315_of_diluted_wines  Proline  \n",
       "0             5.64  1.04                          3.92     1065  \n",
       "1             4.38  1.05                          3.40     1050  \n",
       "2             5.68  1.03                          3.17     1185  \n",
       "3             7.80  0.86                          3.45     1480  \n",
       "4             4.32  1.04                          2.93      735  "
      ]
     },
     "execution_count": 2,
     "metadata": {},
     "output_type": "execute_result"
    }
   ],
   "source": [
    "data=pd.read_csv('C:\\\\Users\\Debodeep\\Documents\\Sapienza Learning Materials\\ADM\\ADMHw4\\wine.txt',header=None)\n",
    "data.columns=['class','Alcohol','Malic_acid','Ash','Alcalinity_of_ash','Magnesium','Total_phenols','Flavanoids','Nonflavanoid_phenols','Proanthocyanins','Color_intensity','Hue','OD280/OD315_of_diluted_wines','Proline']\n",
    "#data= data.drop('class', 1)\n",
    "#data= data.drop(columns=[0])\n",
    "data.head()"
   ]
  },
  {
   "cell_type": "code",
   "execution_count": 3,
   "metadata": {},
   "outputs": [],
   "source": [
    "class K_Means:\n",
    "    def __init__(self, k=3, bound=0.000001, iter=1000):\n",
    "        self.k = k\n",
    "        self.bound = bound\n",
    "        self.iter = iter\n",
    "\n",
    "    def setup(self,data):\n",
    "        \n",
    "        # Defining the centroids\n",
    "        self.centers = {}\n",
    "        for i in range(self.k):\n",
    "            self.centers[i] = data[i]\n",
    "        for i in range(self.iter):\n",
    "            \n",
    "        # Defining the distances\n",
    "            self.classes = {}\n",
    "            for i in range(self.k):\n",
    "                self.classes[i] = []\n",
    "            for attributes in data:\n",
    "                distances = [np.linalg.norm(attributes-self.centers[centroid]) for centroid in self.centers]\n",
    "                classification = distances.index(min(distances))\n",
    "                self.classes[classification].append(attributes)\n",
    "            prev_centers = dict(self.centers)\n",
    "            for classification in self.classes:\n",
    "                self.centers[classification] = np.average(self.classes[classification],axis=0)\n",
    "                \n",
    "        # Setting up the optimizing condition\n",
    "            optimized = True\n",
    "            for c in self.centers:\n",
    "                original_centroid = prev_centers[c]\n",
    "                current_centroid = self.centers[c]\n",
    "                if np.sum((current_centroid-original_centroid)/original_centroid*100.0) > self.bound:\n",
    "                    print(np.sum((current_centroid-original_centroid)/original_centroid*100.0))\n",
    "                    optimized = False\n",
    "            if optimized:\n",
    "                break"
   ]
  },
  {
   "cell_type": "code",
   "execution_count": 4,
   "metadata": {},
   "outputs": [],
   "source": [
    "# Defining the colors for the plots\n",
    "colors = [\"red\",\"green\",\"blue\",\"black\"]"
   ]
  },
  {
   "cell_type": "markdown",
   "metadata": {},
   "source": [
    "### As it is impossible to plot all the 13 attributes altogether, we will try with 2,3 and 4 attributes\n"
   ]
  },
  {
   "cell_type": "code",
   "execution_count": 5,
   "metadata": {},
   "outputs": [],
   "source": [
    "# Considering 2 attributes\n",
    "df1 = np.array(data[['Alcohol','Color_intensity']])"
   ]
  },
  {
   "cell_type": "code",
   "execution_count": 6,
   "metadata": {},
   "outputs": [
    {
     "name": "stdout",
     "output_type": "stream",
     "text": [
      "15.185140487617984\n",
      "29.351463023486694\n",
      "0.025645322840822493\n",
      "19.227453663020274\n",
      "4.426556133176694\n",
      "1.4235020952712014\n"
     ]
    }
   ],
   "source": [
    "clf=K_Means()\n",
    "clf.setup(df1)"
   ]
  },
  {
   "cell_type": "code",
   "execution_count": 7,
   "metadata": {},
   "outputs": [
    {
     "data": {
      "image/png": "[encoded data removed]",
      "text/plain": [
       "<Figure size 432x288 with 1 Axes>"
      ]
     },
     "metadata": {
      "needs_background": "light"
     },
     "output_type": "display_data"
    }
   ],
   "source": [
    "for classification in clf.classes:\n",
    "    color = colors[classification]\n",
    "    for attributes in clf.classes[classification]:\n",
    "        \n",
    "        for i in range(3):\n",
    "            plt.scatter(attributes[0], attributes[1],marker='.', color=colors[classification], s=20, linewidths=5)\n",
    "\n",
    "        \n",
    "for centroid in clf.centers:\n",
    "    plt.scatter(clf.centers[centroid][0], clf.centers[centroid][1],\n",
    "                marker=\"*\", color='black', s=300, linewidths=1)\n",
    "        \n",
    "plt.show()"
   ]
  },
  {
   "cell_type": "code",
   "execution_count": 8,
   "metadata": {},
   "outputs": [],
   "source": [
    "# Considering 3 attributes\n",
    "df2 = np.array(data[['Alcohol','Alcalinity_of_ash','Ash']])"
   ]
  },
  {
   "cell_type": "code",
   "execution_count": 9,
   "metadata": {},
   "outputs": [
    {
     "name": "stdout",
     "output_type": "stream",
     "text": [
      "8.698854364742218\n",
      "2.1499917855129693\n",
      "4.130656682094469\n",
      "2.460540739780848\n",
      "7.727449780919908\n",
      "2.1195503296538427\n",
      "0.45761447580784315\n",
      "3.8739535060617483\n",
      "2.462020970125483\n",
      "0.4258701709782997\n",
      "3.6347226015617657\n",
      "2.195802618267747\n",
      "1.8965830402793402\n",
      "2.7290275408115523\n",
      "0.003581254735074252\n",
      "1.9402624066446885\n",
      "4.306659077805101\n",
      "1.1972946017567645\n",
      "0.9672507278453553\n",
      "4.639065364629241\n",
      "0.5617715973939776\n",
      "2.716039086364893\n",
      "1.175107646901978\n",
      "1.1574195962195333\n",
      "0.01125411888046618\n",
      "2.4989595571746923\n",
      "0.3181127561811937\n",
      "0.07695018656293054\n",
      "0.5307628605317133\n",
      "0.615614180026842\n",
      "0.9559196867059204\n",
      "0.6596738235512436\n",
      "0.3333043609304735\n",
      "1.1048933058613306\n",
      "1.6655732442353945\n",
      "3.032656871285079\n",
      "0.045260588257060225\n",
      "0.3074051664301999\n",
      "0.6434568331179567\n",
      "0.09633827768737843\n",
      "0.20195533017436998\n",
      "0.7344302149044122\n",
      "1.0895410583595413\n",
      "2.545654758395016\n",
      "0.08066992832591673\n",
      "0.569462534920947\n",
      "0.1847768951751228\n",
      "0.053495580280443475\n"
     ]
    }
   ],
   "source": [
    "clf=K_Means()\n",
    "clf.setup(df2)"
   ]
  },
  {
   "cell_type": "code",
   "execution_count": 10,
   "metadata": {},
   "outputs": [
    {
     "data": {
      "image/png": "[encoded data removed]",
      "text/plain": [
       "<Figure size 432x288 with 1 Axes>"
      ]
     },
     "metadata": {
      "needs_background": "light"
     },
     "output_type": "display_data"
    }
   ],
   "source": [
    "for classification in clf.classes:\n",
    "    color = colors[classification]\n",
    "    for attributes in clf.classes[classification]:\n",
    "        \n",
    "        for i in range(3):\n",
    "            plt.scatter(attributes[0], attributes[1],marker='.', color=colors[classification], s=20, linewidths=5)\n",
    "\n",
    "        \n",
    "for centroid in clf.centers:\n",
    "    plt.scatter(clf.centers[centroid][0], clf.centers[centroid][1],\n",
    "                marker=\"*\", color='black', s=300, linewidths=1)\n",
    "        \n",
    "plt.show()"
   ]
  },
  {
   "cell_type": "code",
   "execution_count": 14,
   "metadata": {},
   "outputs": [],
   "source": [
    "# Considering 4 attributes\n",
    "df3 = np.array(data[['Alcohol','Alcalinity_of_ash','Ash','Total_phenols']])"
   ]
  },
  {
   "cell_type": "code",
   "execution_count": 15,
   "metadata": {},
   "outputs": [
    {
     "name": "stdout",
     "output_type": "stream",
     "text": [
      "14.04476631442775\n",
      "1.169331597292882\n",
      "12.637897542113926\n",
      "1.771632861304508\n",
      "0.044396393404523504\n",
      "2.2473589217207035\n",
      "0.8747100003901096\n",
      "4.915092829097442\n",
      "2.452392337840773\n",
      "1.6498426464756075\n",
      "0.7168861523850065\n",
      "2.7063886923589155\n",
      "2.0690053946038836\n",
      "5.7189770082220335\n",
      "1.8371022197099052\n",
      "0.4727678500643766\n",
      "0.9730911050286284\n",
      "2.604417433612442\n",
      "0.8680411343444923\n",
      "0.47061491142707007\n",
      "0.7018458934078075\n",
      "2.504108872322222\n",
      "0.4292642009417311\n",
      "1.4213824892571605\n",
      "0.6930919630442255\n",
      "0.728911725131443\n",
      "4.2316668752049305\n"
     ]
    }
   ],
   "source": [
    "clf=K_Means()\n",
    "clf.setup(df3)"
   ]
  },
  {
   "cell_type": "code",
   "execution_count": 16,
   "metadata": {},
   "outputs": [
    {
     "data": {
      "image/png": "[encoded data removed]",
      "text/plain": [
       "<Figure size 432x288 with 1 Axes>"
      ]
     },
     "metadata": {
      "needs_background": "light"
     },
     "output_type": "display_data"
    }
   ],
   "source": [
    "for classification in clf.classes:\n",
    "    color = colors[classification]\n",
    "    for attributes in clf.classes[classification]:\n",
    "        \n",
    "        for i in range(3):\n",
    "            plt.scatter(attributes[0], attributes[1],marker='.', color=colors[classification], s=20, linewidths=5)\n",
    "\n",
    "        \n",
    "for centroid in clf.centers:\n",
    "    plt.scatter(clf.centers[centroid][0], clf.centers[centroid][1],\n",
    "                marker=\"*\", color='black', s=300, linewidths=1)\n",
    "        \n",
    "plt.show()"
   ]
  },
  {
   "cell_type": "code",
   "execution_count": null,
   "metadata": {},
   "outputs": [],
   "source": []
  }
 ],
 "metadata": {
  "kernelspec": {
   "display_name": "Python 3",
   "language": "python",
   "name": "python3"
  },
  "language_info": {
   "codemirror_mode": {
    "name": "ipython",
    "version": 3
   },
   "file_extension": ".py",
   "mimetype": "text/x-python",
   "name": "python",
   "nbconvert_exporter": "python",
   "pygments_lexer": "ipython3",
   "version": "3.7.1"
  }
 },
 "nbformat": 4,
 "nbformat_minor": 2
}
